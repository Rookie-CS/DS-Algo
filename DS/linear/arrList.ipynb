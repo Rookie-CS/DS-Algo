{
 "cells": [
  {
   "cell_type": "markdown",
   "metadata": {},
   "source": [
    "# C++实现线性表"
   ]
  },
  {
   "cell_type": "code",
   "execution_count": 1,
   "metadata": {
    "vscode": {
     "languageId": "c++"
    }
   },
   "outputs": [],
   "source": [
    "#include <iostream>\n",
    "#include \"hello.cpp\""
   ]
  },
  {
   "cell_type": "code",
   "execution_count": 2,
   "metadata": {
    "vscode": {
     "languageId": "c++"
    }
   },
   "outputs": [
    {
     "name": "stdout",
     "output_type": "stream",
     "text": [
      "Hello World!\n"
     ]
    }
   ],
   "source": [
    "Hello();"
   ]
  },
  {
   "cell_type": "markdown",
   "metadata": {},
   "source": [
    "## 顺序存储实现"
   ]
  },
  {
   "cell_type": "markdown",
   "metadata": {},
   "source": [
    "### 定义数据结构"
   ]
  },
  {
   "cell_type": "code",
   "execution_count": 3,
   "metadata": {
    "vscode": {
     "languageId": "c++"
    }
   },
   "outputs": [],
   "source": [
    "#define MAXSIZE 10\n",
    "typedef int ElementType;\n",
    "\n",
    "typedef struct LNode * List;\n",
    "struct LNode{\n",
    "    ElementType Data[MAXSIZE];\n",
    "    int Last;\n",
    "};\n",
    "struct LNode L;"
   ]
  },
  {
   "cell_type": "markdown",
   "metadata": {},
   "source": [
    "### 初始化"
   ]
  },
  {
   "cell_type": "code",
   "execution_count": 4,
   "metadata": {
    "vscode": {
     "languageId": "c++"
    }
   },
   "outputs": [],
   "source": [
    "List MakeEmpty()\n",
    "{\n",
    "    List PtrL;\n",
    "    PtrL = new LNode;\n",
    "    PtrL->Last = -1;\n",
    "\n",
    "    return PtrL;\n",
    "}"
   ]
  },
  {
   "cell_type": "markdown",
   "metadata": {},
   "source": [
    "### 查找"
   ]
  },
  {
   "cell_type": "code",
   "execution_count": 5,
   "metadata": {
    "vscode": {
     "languageId": "c++"
    }
   },
   "outputs": [],
   "source": [
    "int Find(ElementType X, List PtrL)\n",
    "{\n",
    "    int i = 0;\n",
    "    while( i <= PtrL->Last && PtrL->Data[i] != X) i++;\n",
    "\n",
    "    if(i > PtrL->Last) return -1;\n",
    "\n",
    "    else return i;\n",
    "}"
   ]
  },
  {
   "cell_type": "markdown",
   "metadata": {},
   "source": [
    "### 插入"
   ]
  },
  {
   "cell_type": "code",
   "execution_count": 6,
   "metadata": {
    "vscode": {
     "languageId": "c++"
    }
   },
   "outputs": [],
   "source": [
    "void InSert(ElementType X, int i, List PtrL)\n",
    "{\n",
    "    if(PtrL->Last == MAXSIZE - 1)\n",
    "    {\n",
    "        printf(\"表满\");\n",
    "        // std::cout << \"表满\" << std::endl;\n",
    "\n",
    "        return;\n",
    "    }\n",
    "    if( i < 0 || i > PtrL->Last + 1)\n",
    "    {\n",
    "        printf(\"位置不合法\");\n",
    "        // std::cout << \"位置不合法\" << std::endl;\n",
    "\n",
    "        return;\n",
    "    }\n",
    "    for(int j = PtrL->Last + 1; j > i; j--)\n",
    "    {\n",
    "        PtrL->Data[j] = PtrL->Data[j-1];\n",
    "    }\n",
    "    PtrL->Data[i] = X;\n",
    "    PtrL->Last++;\n",
    "\n",
    "    return;\n",
    "}"
   ]
  },
  {
   "cell_type": "markdown",
   "metadata": {},
   "source": [
    "### 删除"
   ]
  },
  {
   "cell_type": "code",
   "execution_count": 7,
   "metadata": {
    "vscode": {
     "languageId": "c++"
    }
   },
   "outputs": [],
   "source": [
    "void Delete(int i, List PtrL)\n",
    "{\n",
    "    if(i < 0 || i > PtrL->Last)\n",
    "    {\n",
    "        printf(\"不存在第%d个元素\", i);\n",
    "        return;\n",
    "    }\n",
    "    for( int j = i; j < PtrL->Last; j++ )\n",
    "    {\n",
    "        PtrL->Data[j] = PtrL->Data[j+1];\n",
    "    }\n",
    "    PtrL->Last--;\n",
    "    \n",
    "    return;\n",
    "}"
   ]
  },
  {
   "cell_type": "markdown",
   "metadata": {},
   "source": [
    "### 测试"
   ]
  },
  {
   "cell_type": "code",
   "execution_count": 8,
   "metadata": {
    "vscode": {
     "languageId": "c++"
    }
   },
   "outputs": [],
   "source": [
    "void ShowList(List PtrL)\n",
    "{\n",
    "    if(PtrL->Last == -1)\n",
    "    {\n",
    "        printf(\"Empty!\\n\");\n",
    "        return;\n",
    "    }\n",
    "    printf(\"Data:\\n\");\n",
    "\n",
    "    for( int i = 0; i <= PtrL->Last; i++)\n",
    "    {\n",
    "        printf(\"%2d\\t\", PtrL->Data[i]);\n",
    "    }\n",
    "    printf(\"\\nLast:\\t%d\\n\", PtrL->Last);\n",
    "\n",
    "    return ;\n",
    "}"
   ]
  },
  {
   "cell_type": "code",
   "execution_count": 9,
   "metadata": {
    "vscode": {
     "languageId": "c++"
    }
   },
   "outputs": [],
   "source": [
    "List PtrL = MakeEmpty();"
   ]
  },
  {
   "cell_type": "code",
   "execution_count": 10,
   "metadata": {
    "vscode": {
     "languageId": "c++"
    }
   },
   "outputs": [
    {
     "name": "stdout",
     "output_type": "stream",
     "text": [
      "Empty!\n"
     ]
    }
   ],
   "source": [
    "ShowList(PtrL);"
   ]
  },
  {
   "cell_type": "code",
   "execution_count": 11,
   "metadata": {
    "vscode": {
     "languageId": "c++"
    }
   },
   "outputs": [],
   "source": [
    "for(int i = 0; i <= 5; i++)\n",
    "{\n",
    "    InSert(i * 2, i, PtrL);   \n",
    "}"
   ]
  },
  {
   "cell_type": "code",
   "execution_count": 12,
   "metadata": {
    "vscode": {
     "languageId": "c++"
    }
   },
   "outputs": [
    {
     "name": "stdout",
     "output_type": "stream",
     "text": [
      "Data:\n",
      " 0\t 2\t 4\t 6\t 8\t10\t\n",
      "Last:\t5\n"
     ]
    }
   ],
   "source": [
    "ShowList(PtrL);"
   ]
  },
  {
   "cell_type": "code",
   "execution_count": 13,
   "metadata": {
    "vscode": {
     "languageId": "c++"
    }
   },
   "outputs": [],
   "source": [
    "InSert(-1, 3, PtrL);"
   ]
  },
  {
   "cell_type": "code",
   "execution_count": 14,
   "metadata": {
    "vscode": {
     "languageId": "c++"
    }
   },
   "outputs": [
    {
     "name": "stdout",
     "output_type": "stream",
     "text": [
      "Data:\n",
      " 0\t 2\t 4\t-1\t 6\t 8\t10\t\n",
      "Last:\t6\n"
     ]
    }
   ],
   "source": [
    "ShowList(PtrL);"
   ]
  },
  {
   "cell_type": "code",
   "execution_count": 15,
   "metadata": {
    "vscode": {
     "languageId": "c++"
    }
   },
   "outputs": [
    {
     "data": {
      "text/plain": [
       "2"
      ]
     },
     "execution_count": 15,
     "metadata": {},
     "output_type": "execute_result"
    }
   ],
   "source": [
    "Find(4, PtrL)"
   ]
  },
  {
   "cell_type": "code",
   "execution_count": 16,
   "metadata": {
    "vscode": {
     "languageId": "c++"
    }
   },
   "outputs": [
    {
     "name": "stdout",
     "output_type": "stream",
     "text": [
      "Data:\n",
      " 2\t 4\t-1\t 6\t 8\t10\t\n",
      "Last:\t5\n"
     ]
    }
   ],
   "source": [
    "Delete(0, PtrL);\n",
    "ShowList(PtrL);"
   ]
  },
  {
   "cell_type": "code",
   "execution_count": 1,
   "metadata": {
    "vscode": {
     "languageId": "c++"
    }
   },
   "outputs": [
    {
     "name": "stdout",
     "output_type": "stream",
     "text": [
      "/root/Desktop/CPP/DataStruct/linear\n"
     ]
    }
   ],
   "source": []
  },
  {
   "cell_type": "code",
   "execution_count": null,
   "metadata": {
    "vscode": {
     "languageId": "c++"
    }
   },
   "outputs": [],
   "source": []
  }
 ],
 "metadata": {
  "kernelspec": {
   "display_name": "C++11",
   "language": "C++11",
   "name": "xcpp11"
  },
  "language_info": {
   "codemirror_mode": "text/x-c++src",
   "file_extension": ".cpp",
   "mimetype": "text/x-c++src",
   "name": "C++11",
   "version": "11"
  }
 },
 "nbformat": 4,
 "nbformat_minor": 2
}
