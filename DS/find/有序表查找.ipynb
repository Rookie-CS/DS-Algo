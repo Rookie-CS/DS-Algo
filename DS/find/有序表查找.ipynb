{
 "cells": [
  {
   "cell_type": "markdown",
   "metadata": {},
   "source": [
    "# 有序表查找"
   ]
  },
  {
   "cell_type": "code",
   "execution_count": 1,
   "metadata": {},
   "outputs": [],
   "source": [
    "#include <iostream>\n",
    "#include <vector>\n",
    "\n",
    "using namespace std;"
   ]
  },
  {
   "cell_type": "markdown",
   "metadata": {},
   "source": [
    "## 1.二分查找"
   ]
  },
  {
   "cell_type": "code",
   "execution_count": 2,
   "metadata": {},
   "outputs": [],
   "source": [
    "int binarySearch(vector<int>& nums, int key)\n",
    "{\n",
    "    int left = 0, right = nums.size() - 1;\n",
    "    int mid;\n",
    "    while(left <= right)\n",
    "    {\n",
    "        mid = (left + right) / 2;\n",
    "        if(key == nums[mid]) return mid;\n",
    "        else if( key > nums[mid]) left = mid + 1;\n",
    "        else right = right - 1;\n",
    "    }\n",
    "\n",
    "    return -1;\n",
    "}"
   ]
  },
  {
   "cell_type": "code",
   "execution_count": 6,
   "metadata": {},
   "outputs": [
    {
     "name": "stdout",
     "output_type": "stream",
     "text": [
      "4 0 10 -1 -1 -1 "
     ]
    }
   ],
   "source": [
    "vector<int> vec{0, 1, 16, 24, 35, 47, 59, 62, 73, 88, 99};\n",
    "cout << binarySearch(vec, 35) << \" \";\n",
    "cout << binarySearch(vec, 0) << \" \";\n",
    "cout << binarySearch(vec, 99) << \" \";\n",
    "cout << binarySearch(vec, -35) << \" \";\n",
    "cout << binarySearch(vec, 100) << \" \";\n",
    "cout << binarySearch(vec, 60) << \" \";"
   ]
  },
  {
   "cell_type": "markdown",
   "metadata": {},
   "source": [
    "## 插值查找"
   ]
  },
  {
   "cell_type": "code",
   "execution_count": 7,
   "metadata": {},
   "outputs": [],
   "source": [
    "int insertSearch(vector<int>& nums, int key)\n",
    "{\n",
    "    int left = 0, right = nums.size() - 1;\n",
    "    int mid;\n",
    "\n",
    "    while(left <= right)\n",
    "    {\n",
    "        mid = left + (key - nums[left]) * (right - left) / (nums[right] - nums[left]);\n",
    "        if(nums[mid] == key) return mid;\n",
    "        else if(nums[mid] < key) left = mid + 1;\n",
    "        else right = mid - 1;\n",
    "    }\n",
    "\n",
    "    return -1;\n",
    "}"
   ]
  },
  {
   "cell_type": "code",
   "execution_count": 8,
   "metadata": {},
   "outputs": [
    {
     "name": "stdout",
     "output_type": "stream",
     "text": [
      "4 0 10 -1 -1 -1 "
     ]
    }
   ],
   "source": [
    "vector<int> vec{0, 1, 16, 24, 35, 47, 59, 62, 73, 88, 99};\n",
    "cout << binarySearch(vec, 35) << \" \";\n",
    "cout << binarySearch(vec, 0) << \" \";\n",
    "cout << binarySearch(vec, 99) << \" \";\n",
    "cout << binarySearch(vec, -35) << \" \";\n",
    "cout << binarySearch(vec, 100) << \" \";\n",
    "cout << binarySearch(vec, 60) << \" \";"
   ]
  },
  {
   "cell_type": "markdown",
   "metadata": {},
   "source": [
    "## 3. 斐波那契查找"
   ]
  },
  {
   "cell_type": "code",
   "execution_count": null,
   "metadata": {},
   "outputs": [],
   "source": []
  }
 ],
 "metadata": {
  "kernelspec": {
   "display_name": "C++11",
   "language": "C++11",
   "name": "xcpp11"
  },
  "language_info": {
   "codemirror_mode": "text/x-c++src",
   "file_extension": ".cpp",
   "mimetype": "text/x-c++src",
   "name": "c++",
   "version": "11"
  }
 },
 "nbformat": 4,
 "nbformat_minor": 2
}
