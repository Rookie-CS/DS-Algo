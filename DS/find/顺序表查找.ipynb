{
 "cells": [
  {
   "cell_type": "markdown",
   "metadata": {},
   "source": [
    "# 顺序表查找"
   ]
  },
  {
   "cell_type": "code",
   "execution_count": 43,
   "metadata": {},
   "outputs": [],
   "source": [
    "#include <iostream>\n",
    "#include<cmath>\n",
    "#include <chrono>\n",
    "\n",
    "using namespace std;"
   ]
  },
  {
   "cell_type": "markdown",
   "metadata": {},
   "source": [
    "## 顺序查找"
   ]
  },
  {
   "cell_type": "code",
   "execution_count": 44,
   "metadata": {},
   "outputs": [],
   "source": [
    "int Sequential_Search( int *a, int n, int key)\n",
    "{\n",
    "    for( int i = 1; i < n; i++)\n",
    "    {\n",
    "        if(a[i] == key)\n",
    "            return i;\n",
    "    }\n",
    "\n",
    "    return 0;\n",
    "}"
   ]
  },
  {
   "cell_type": "markdown",
   "metadata": {},
   "source": [
    "## 顺序查找改进"
   ]
  },
  {
   "cell_type": "code",
   "execution_count": 45,
   "metadata": {},
   "outputs": [],
   "source": [
    "int Sequential_Search2(int *a, int n, int key)\n",
    "{\n",
    "    a[0] = key;\n",
    "    while(a[--n] != key);\n",
    "    return n;\n",
    "}"
   ]
  },
  {
   "cell_type": "markdown",
   "metadata": {},
   "source": [
    "## 测试"
   ]
  },
  {
   "cell_type": "code",
   "execution_count": 46,
   "metadata": {},
   "outputs": [],
   "source": [
    "template <typename Func, typename... Args>\n",
    "float timeFunction(int iterations, Func&& func, Args&&... args) {\n",
    "    auto start = std::chrono::high_resolution_clock::now();\n",
    "\n",
    "    for (int i = 0; i < iterations; ++i) {\n",
    "        std::forward<Func>(func)(std::forward<Args>(args)...);\n",
    "    }\n",
    "\n",
    "    auto end = std::chrono::high_resolution_clock::now();\n",
    "    auto duration = std::chrono::duration_cast<std::chrono::milliseconds>(end - start);\n",
    "\n",
    "    std::cout << \"Average time taken for \" << iterations << \" iterations: \"\n",
    "              << duration.count() << \" milliseconds\" << std::endl;\n",
    "\n",
    "    return static_cast<float>(duration.count());\n",
    "}"
   ]
  },
  {
   "cell_type": "code",
   "execution_count": 47,
   "metadata": {},
   "outputs": [],
   "source": [
    "int testIterations = 10000;\n",
    "const int N = 10000;\n",
    "int a[N];\n",
    "for( int i = 1; i < N; i++)\n",
    "{\n",
    "    a[i] = pow(-1, i) * i * 2 + 2;\n",
    "}"
   ]
  },
  {
   "cell_type": "code",
   "execution_count": 48,
   "metadata": {},
   "outputs": [
    {
     "name": "stdout",
     "output_type": "stream",
     "text": [
      "Average time taken for 10000 iterations: 0 milliseconds\n",
      "Average time taken for 10000 iterations: 19 milliseconds\n"
     ]
    },
    {
     "name": "stdout",
     "output_type": "stream",
     "text": [
      "Average time taken for 10000 iterations: 19 milliseconds\n",
      "Average time taken for 10000 iterations: 18 milliseconds\n",
      "Average time taken for 10000 iterations: 19 milliseconds\n",
      "Average time taken for 10000 iterations: 18 milliseconds\n",
      "Average time taken for 10000 iterations: 18 milliseconds\n",
      "Average time taken for 10000 iterations: 19 milliseconds\n",
      "Average time taken for 10000 iterations: 18 milliseconds\n",
      "Average time taken for 10000 iterations: 18 milliseconds\n",
      "166\n"
     ]
    }
   ],
   "source": [
    "float sum = 0;\n",
    "for( int i = 1; i < N; i+=N/10)\n",
    "{\n",
    "    sum += timeFunction(testIterations, Sequential_Search, a, 1000, a[i]);\n",
    "}\n",
    "\n",
    "cout << sum << endl;"
   ]
  },
  {
   "cell_type": "code",
   "execution_count": 49,
   "metadata": {},
   "outputs": [
    {
     "name": "stdout",
     "output_type": "stream",
     "text": [
      "Average time taken for 10000 iterations: 15 milliseconds\n",
      "Average time taken for 10000 iterations: 15 milliseconds\n",
      "Average time taken for 10000 iterations: 14 milliseconds\n",
      "Average time taken for 10000 iterations: 15 milliseconds\n",
      "Average time taken for 10000 iterations: 14 milliseconds\n",
      "Average time taken for 10000 iterations: 14 milliseconds\n",
      "Average time taken for 10000 iterations: 14 milliseconds\n",
      "Average time taken for 10000 iterations: 15 milliseconds\n",
      "Average time taken for 10000 iterations: 15 milliseconds\n",
      "Average time taken for 10000 iterations: 15 milliseconds\n",
      "146\n"
     ]
    }
   ],
   "source": [
    "int sum = 0;\n",
    "for(int i = 1; i < N; i+=N/10)\n",
    "{\n",
    "    sum += timeFunction(testIterations, Sequential_Search2, a, 1000, a[i]);\n",
    "}\n",
    "cout << sum << endl;"
   ]
  },
  {
   "cell_type": "code",
   "execution_count": null,
   "metadata": {},
   "outputs": [],
   "source": []
  }
 ],
 "metadata": {
  "kernelspec": {
   "display_name": "C++11",
   "language": "C++11",
   "name": "xcpp11"
  },
  "language_info": {
   "codemirror_mode": "text/x-c++src",
   "file_extension": ".cpp",
   "mimetype": "text/x-c++src",
   "name": "c++",
   "version": "11"
  }
 },
 "nbformat": 4,
 "nbformat_minor": 2
}
