{
 "cells": [
  {
   "cell_type": "markdown",
   "metadata": {},
   "source": [
    "# 队列的链式存储C++实现"
   ]
  },
  {
   "cell_type": "code",
   "execution_count": 11,
   "metadata": {},
   "outputs": [],
   "source": [
    "#include <iostream>\n",
    "\n",
    "using namespace std;"
   ]
  },
  {
   "cell_type": "markdown",
   "metadata": {},
   "source": [
    "## 实现"
   ]
  },
  {
   "cell_type": "code",
   "execution_count": 12,
   "metadata": {},
   "outputs": [],
   "source": [
    "typedef int QElement;\n",
    "\n",
    "struct SNode{\n",
    "    QElement val;\n",
    "    SNode* next;\n",
    "}"
   ]
  },
  {
   "cell_type": "code",
   "execution_count": 13,
   "metadata": {},
   "outputs": [],
   "source": [
    "class Queue\n",
    "{\n",
    "\n",
    "private:\n",
    "    SNode* front;\n",
    "    SNode* rear;\n",
    "    int length;\n",
    "\n",
    "public:\n",
    "    Queue() \n",
    "    {\n",
    "        front = new SNode;\n",
    "        front->next = nullptr;\n",
    "        rear = front;\n",
    "        length = 0;\n",
    "    }\n",
    "\n",
    "    bool empty()\n",
    "    {\n",
    "        return front == rear;\n",
    "    }\n",
    "\n",
    "    void EnQueue(QElement x)\n",
    "    {\n",
    "        SNode* node = new SNode;\n",
    "        node->val = x;\n",
    "        node->next = nullptr;\n",
    "        rear->next = node;\n",
    "        rear = node;\n",
    "        length++;\n",
    "    }\n",
    "\n",
    "    bool DeQueue(QElement& x)\n",
    "    {\n",
    "        SNode* node = front->next;\n",
    "        if(!empty())\n",
    "        {\n",
    "            rear = rear==node ? front: rear;\n",
    "            // if(rear == node) rear = front;\n",
    "            x = node->val;\n",
    "            front->next = node->next;\n",
    "            delete node;\n",
    "            length--;\n",
    "            return true;\n",
    "        }\n",
    "        else\n",
    "        {\n",
    "            cout << \"队列已空\" << endl;\n",
    "            return false;\n",
    "        }\n",
    "    }\n",
    "\n",
    "    int Length() { return length;}\n",
    "\n",
    "};"
   ]
  },
  {
   "cell_type": "markdown",
   "metadata": {},
   "source": [
    "## 测试"
   ]
  },
  {
   "cell_type": "code",
   "execution_count": 14,
   "metadata": {},
   "outputs": [],
   "source": [
    "Queue queue;"
   ]
  },
  {
   "cell_type": "code",
   "execution_count": 15,
   "metadata": {},
   "outputs": [
    {
     "name": "stdout",
     "output_type": "stream",
     "text": [
      "1\n",
      "3\n",
      "5\n",
      "7\n",
      "9\n",
      "11\n",
      "13\n",
      "15\n",
      "17\n",
      "19\n"
     ]
    }
   ],
   "source": [
    "for( QElement i = 0; i < 10; i++)queue.EnQueue(i*2 + 1);\n",
    "QElement x;\n",
    "while(!queue.empty())\n",
    "{\n",
    "    queue.DeQueue(x);\n",
    "    cout << x << endl;\n",
    "}"
   ]
  },
  {
   "cell_type": "code",
   "execution_count": 16,
   "metadata": {},
   "outputs": [
    {
     "name": "stdout",
     "output_type": "stream",
     "text": [
      "队列已空\n"
     ]
    }
   ],
   "source": [
    "queue.DeQueue(x);"
   ]
  },
  {
   "cell_type": "code",
   "execution_count": 18,
   "metadata": {},
   "outputs": [
    {
     "name": "stdout",
     "output_type": "stream",
     "text": [
      "1\n"
     ]
    }
   ],
   "source": [
    "queue.EnQueue(12);\n",
    "cout << queue.Length() << endl;"
   ]
  },
  {
   "cell_type": "code",
   "execution_count": null,
   "metadata": {},
   "outputs": [],
   "source": []
  }
 ],
 "metadata": {
  "kernelspec": {
   "display_name": "C++11",
   "language": "C++11",
   "name": "xcpp11"
  },
  "language_info": {
   "codemirror_mode": "text/x-c++src",
   "file_extension": ".cpp",
   "mimetype": "text/x-c++src",
   "name": "c++",
   "version": "11"
  }
 },
 "nbformat": 4,
 "nbformat_minor": 2
}
