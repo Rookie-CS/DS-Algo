{
 "cells": [
  {
   "cell_type": "markdown",
   "metadata": {},
   "source": [
    "# 顺序存储的循环队列Python实现"
   ]
  },
  {
   "cell_type": "code",
   "execution_count": 1,
   "metadata": {},
   "outputs": [],
   "source": [
    "class CircularQueue:\n",
    "    def __init__(self, capacity):\n",
    "        self.capacity = capacity\n",
    "        self.queue = [None] * capacity\n",
    "        self.front = 0  # 队头指针，指向队首元素\n",
    "        self.rear = 0   # 队尾指针，指向队尾元素的下一个位置（即下一个入队元素的位置）\n",
    "\n",
    "    def enqueue(self, item):\n",
    "        if (self.rear + 1) % self.capacity == self.front:\n",
    "            print(\"队列已满，无法入队！\")\n",
    "        else:\n",
    "            self.queue[self.rear] = item\n",
    "            self.rear = (self.rear + 1) % self.capacity\n",
    "\n",
    "    def dequeue(self):\n",
    "        if self.front == self.rear:\n",
    "            print(\"队列为空，无法出队！\")\n",
    "        else:\n",
    "            item = self.queue[self.front]\n",
    "            self.front = (self.front + 1) % self.capacity\n",
    "            return item\n",
    "\n",
    "    def display(self):\n",
    "        if self.front == self.rear:\n",
    "            print(\"队列为空！\")\n",
    "        else:\n",
    "            print(\"当前队列元素为：\", end=\" \")\n",
    "            i = self.front\n",
    "            while i != self.rear:\n",
    "                print(self.queue[i], end=\" \")\n",
    "                i = (i + 1) % self.capacity\n",
    "            print()"
   ]
  },
  {
   "cell_type": "code",
   "execution_count": 2,
   "metadata": {},
   "outputs": [
    {
     "name": "stdout",
     "output_type": "stream",
     "text": [
      "队列已满，无法入队！\n",
      "当前队列元素为： 1 2 3 4 \n",
      "队列已满，无法入队！\n",
      "当前队列元素为： 3 4 \n",
      "当前队列元素为： 3 4 6 \n"
     ]
    }
   ],
   "source": [
    "cq = CircularQueue(5)\n",
    "cq.enqueue(1)\n",
    "cq.enqueue(2)\n",
    "cq.enqueue(3)\n",
    "cq.enqueue(4)\n",
    "cq.enqueue(5)\n",
    "cq.display()\n",
    "cq.enqueue(6)  # 队列已满，无法入队！\n",
    "cq.dequeue()\n",
    "cq.dequeue()\n",
    "cq.display()\n",
    "cq.enqueue(6)\n",
    "cq.display()\n"
   ]
  },
  {
   "cell_type": "code",
   "execution_count": null,
   "metadata": {},
   "outputs": [],
   "source": []
  }
 ],
 "metadata": {
  "kernelspec": {
   "display_name": "ai",
   "language": "python",
   "name": "python3"
  },
  "language_info": {
   "codemirror_mode": {
    "name": "ipython",
    "version": 3
   },
   "file_extension": ".py",
   "mimetype": "text/x-python",
   "name": "python",
   "nbconvert_exporter": "python",
   "pygments_lexer": "ipython3",
   "version": "3.11.9"
  }
 },
 "nbformat": 4,
 "nbformat_minor": 2
}
