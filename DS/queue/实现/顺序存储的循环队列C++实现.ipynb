{
 "cells": [
  {
   "cell_type": "markdown",
   "metadata": {},
   "source": [
    "# 顺序存储的循环队列实现"
   ]
  },
  {
   "cell_type": "code",
   "execution_count": 8,
   "metadata": {
    "vscode": {
     "languageId": "c++"
    }
   },
   "outputs": [],
   "source": [
    "#include <iostream>\n",
    "\n",
    "using namespace std;"
   ]
  },
  {
   "cell_type": "code",
   "execution_count": 9,
   "metadata": {
    "vscode": {
     "languageId": "c++"
    }
   },
   "outputs": [],
   "source": [
    "#define MAXSIZE 10"
   ]
  },
  {
   "cell_type": "markdown",
   "metadata": {},
   "source": [
    "## 实现"
   ]
  },
  {
   "cell_type": "code",
   "execution_count": 10,
   "metadata": {
    "vscode": {
     "languageId": "c++"
    }
   },
   "outputs": [],
   "source": [
    "class Queue\n",
    "{\n",
    "private:\n",
    "    int Data[MAXSIZE];\n",
    "    int front, rear;    // 队头和队尾指针\n",
    "    int maxsize = MAXSIZE;  // 队列容纳最大的元素数量\n",
    "    int QueueLength;    // 队列长度\n",
    "\n",
    "public:\n",
    "    Queue()\n",
    "    {\n",
    "        this->front = 0;\n",
    "        this->rear = 0;\n",
    "        this->QueueLength = 0;\n",
    "    }\n",
    "\n",
    "    bool Empty()\n",
    "    {\n",
    "        return front == rear;\n",
    "    }\n",
    "    /// 入队\n",
    "    bool EnQueue(int x)\n",
    "    {\n",
    "        bool OK;\n",
    "        if((rear+1)%maxsize != front)\n",
    "        {\n",
    "            Data[rear] = x;\n",
    "            rear = (rear+1)%maxsize;\n",
    "            this->QueueLength++;\n",
    "            OK = true;\n",
    "        }\n",
    "        else\n",
    "        {\n",
    "            cout << \"队列已满\" << endl;\n",
    "            OK = false;\n",
    "        }\n",
    "\n",
    "        return OK;\n",
    "    }\n",
    "    /// 出队\n",
    "    bool DeQueue(int& x)\n",
    "    {\n",
    "        bool OK;\n",
    "        if(!this->Empty())\n",
    "        {\n",
    "            x = this->Data[this->front];\n",
    "            front = (front+1)%maxsize;\n",
    "            this->QueueLength--;\n",
    "            OK = true;\n",
    "        }\n",
    "        else\n",
    "        {\n",
    "            cout << \"队列空\" << endl;\n",
    "            OK = false;\n",
    "        }\n",
    "\n",
    "        return OK;\n",
    "    }\n",
    "    /// 队列长度\n",
    "    int Length()\n",
    "    {\n",
    "        return this->QueueLength;\n",
    "    }\n",
    "\n",
    "    void Clear()\n",
    "    {\n",
    "        int tmp;\n",
    "        while(!this->Empty())\n",
    "        {\n",
    "            this->DeQueue(tmp);\n",
    "        }\n",
    "    }\n",
    "\n",
    "    int GetHead()\n",
    "    {\n",
    "        if(!this->Empty()) return this->Data[front];\n",
    "        else\n",
    "        {\n",
    "            cout << \"队列空\" << endl;\n",
    "            return -1;\n",
    "        }\n",
    "    }\n",
    "\n",
    "    int Front() { return front; } \n",
    "    int Rear() { return rear; }\n",
    "\n",
    "};"
   ]
  },
  {
   "cell_type": "markdown",
   "metadata": {},
   "source": [
    "## 测试"
   ]
  },
  {
   "cell_type": "code",
   "execution_count": 11,
   "metadata": {
    "vscode": {
     "languageId": "c++"
    }
   },
   "outputs": [],
   "source": [
    "Queue queue;"
   ]
  },
  {
   "cell_type": "code",
   "execution_count": 21,
   "metadata": {
    "vscode": {
     "languageId": "c++"
    }
   },
   "outputs": [
    {
     "name": "stdout",
     "output_type": "stream",
     "text": [
      "队列已满\n",
      "1 0\n",
      "1\n",
      "3\n",
      "5\n",
      "7\n",
      "9\n",
      "11\n",
      "13\n",
      "15\n",
      "17\n",
      "0 0\n"
     ]
    }
   ],
   "source": [
    "for( int i = 0; i < 10; i++)queue.EnQueue(i*2 + 1);\n",
    "cout << queue.Front() << \" \" << queue.Rear() << endl;\n",
    "int x;\n",
    "while(queue.Length())\n",
    "{\n",
    "    queue.DeQueue(x);\n",
    "    cout << x << endl;\n",
    "}\n",
    "cout << queue.Front() << \" \" << queue.Rear() << endl;"
   ]
  },
  {
   "cell_type": "code",
   "execution_count": 24,
   "metadata": {
    "vscode": {
     "languageId": "c++"
    }
   },
   "outputs": [
    {
     "name": "stdout",
     "output_type": "stream",
     "text": [
      "1\n",
      "1\n",
      "3\n",
      "5\n",
      "7\n",
      "9\n"
     ]
    }
   ],
   "source": [
    "Queue queue2;\n",
    "for( int i = 0; i < 5; i++)queue2.EnQueue(i*2 + 1);\n",
    "cout << queue2.GetHead() << endl;\n",
    "int x;\n",
    "while(!queue2.Empty())\n",
    "{\n",
    "    queue2.DeQueue(x);\n",
    "    cout << x << endl;\n",
    "}"
   ]
  },
  {
   "cell_type": "code",
   "execution_count": null,
   "metadata": {
    "vscode": {
     "languageId": "c++"
    }
   },
   "outputs": [],
   "source": []
  }
 ],
 "metadata": {
  "kernelspec": {
   "display_name": "C++11",
   "language": "C++11",
   "name": "xcpp11"
  },
  "language_info": {
   "codemirror_mode": "text/x-c++src",
   "file_extension": ".cpp",
   "mimetype": "text/x-c++src",
   "name": "C++11",
   "version": "11"
  }
 },
 "nbformat": 4,
 "nbformat_minor": 2
}
