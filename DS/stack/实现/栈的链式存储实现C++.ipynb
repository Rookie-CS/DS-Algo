{
 "cells": [
  {
   "cell_type": "markdown",
   "metadata": {},
   "source": [
    "# 栈的链式存储实现"
   ]
  },
  {
   "cell_type": "code",
   "execution_count": 3,
   "metadata": {
    "vscode": {
     "languageId": "c++"
    }
   },
   "outputs": [],
   "source": [
    "#include <iostream>\n",
    "\n",
    "using namespace std;"
   ]
  },
  {
   "cell_type": "code",
   "execution_count": 4,
   "metadata": {
    "vscode": {
     "languageId": "c++"
    }
   },
   "outputs": [],
   "source": [
    "struct SNode\n",
    "{\n",
    "    int val;\n",
    "    SNode* next;        \n",
    "};"
   ]
  },
  {
   "cell_type": "code",
   "execution_count": 6,
   "metadata": {
    "vscode": {
     "languageId": "c++"
    }
   },
   "outputs": [],
   "source": [
    "class Stack\n",
    "{\n",
    "private:\n",
    "    /*head*/\n",
    "    SNode* head;\n",
    "    int Size;\n",
    "public:\n",
    "   \n",
    "    Stack()\n",
    "    {\n",
    "        this->head = new SNode;\n",
    "        this->head->next = nullptr;\n",
    "        this->Size = 0;\n",
    "    }\n",
    "\n",
    "    bool empty()\n",
    "    {\n",
    "        return !this->Size;\n",
    "    }\n",
    "\n",
    "    int size() {return this->Size;}\n",
    "    int top()\n",
    "    {\n",
    "        if(this->head->next) return this->head->val;\n",
    "        else\n",
    "        {\n",
    "            cout << \"栈空\" << endl;\n",
    "            return -1;\n",
    "        }\n",
    "    }\n",
    "\n",
    "    void push(int x)\n",
    "    {\n",
    "        SNode* node = new SNode;\n",
    "        node->val = x;\n",
    "        node->next = this->head;\n",
    "        this->head = node;\n",
    "        this->Size++;\n",
    "    }\n",
    "\n",
    "    void pop()\n",
    "    {\n",
    "        if(!this->empty())\n",
    "        {\n",
    "            SNode* node = head->next;\n",
    "            delete head;\n",
    "            this->head = node;\n",
    "            this->Size--;\n",
    "        }\n",
    "        else\n",
    "        {\n",
    "            cout << \"栈已空\" << endl;\n",
    "        }\n",
    "    }\n",
    "\n",
    "}"
   ]
  },
  {
   "cell_type": "code",
   "execution_count": 7,
   "metadata": {
    "vscode": {
     "languageId": "c++"
    }
   },
   "outputs": [],
   "source": [
    "Stack stk;"
   ]
  },
  {
   "cell_type": "code",
   "execution_count": 8,
   "metadata": {
    "vscode": {
     "languageId": "c++"
    }
   },
   "outputs": [],
   "source": [
    "stk.push(12);\n",
    "stk.push(11);"
   ]
  },
  {
   "cell_type": "code",
   "execution_count": 9,
   "metadata": {
    "vscode": {
     "languageId": "c++"
    }
   },
   "outputs": [
    {
     "name": "stdout",
     "output_type": "stream",
     "text": [
      "size = 2\n",
      "top = 11\n"
     ]
    }
   ],
   "source": [
    "cout << \"size = \" <<  stk.size() << endl;\n",
    "cout << \"top = \" << stk.top() << endl;"
   ]
  },
  {
   "cell_type": "code",
   "execution_count": 10,
   "metadata": {
    "vscode": {
     "languageId": "c++"
    }
   },
   "outputs": [
    {
     "name": "stdout",
     "output_type": "stream",
     "text": [
      "top = 12\n"
     ]
    }
   ],
   "source": [
    "stk.pop();\n",
    "cout << \"top = \" << stk.top() << endl;"
   ]
  },
  {
   "cell_type": "code",
   "execution_count": 11,
   "metadata": {
    "vscode": {
     "languageId": "c++"
    }
   },
   "outputs": [
    {
     "name": "stdout",
     "output_type": "stream",
     "text": [
      "top = 栈空\n",
      "-1\n"
     ]
    }
   ],
   "source": [
    "stk.pop();\n",
    "cout << \"top = \" << stk.top() << endl;"
   ]
  },
  {
   "cell_type": "code",
   "execution_count": 12,
   "metadata": {
    "vscode": {
     "languageId": "c++"
    }
   },
   "outputs": [
    {
     "name": "stdout",
     "output_type": "stream",
     "text": [
      "1\n"
     ]
    }
   ],
   "source": [
    "cout << stk.empty() << endl;"
   ]
  }
 ],
 "metadata": {
  "kernelspec": {
   "display_name": "C++11",
   "language": "C++11",
   "name": "xcpp11"
  },
  "language_info": {
   "codemirror_mode": "text/x-c++src",
   "file_extension": ".cpp",
   "mimetype": "text/x-c++src",
   "name": "C++11",
   "version": "11"
  }
 },
 "nbformat": 4,
 "nbformat_minor": 2
}
