{
 "cells": [
  {
   "cell_type": "markdown",
   "metadata": {},
   "source": [
    "# 栈的顺序存储实现"
   ]
  },
  {
   "cell_type": "code",
   "execution_count": 1,
   "metadata": {},
   "outputs": [],
   "source": [
    "#include <iostream>\n",
    "\n",
    "using namespace std;\n",
    "\n",
    "#define MAXSIZE 100\n",
    "\n",
    "typedef int ElementType;"
   ]
  },
  {
   "cell_type": "code",
   "execution_count": 2,
   "metadata": {},
   "outputs": [],
   "source": [
    "class Stack\n",
    "{\n",
    "private:\n",
    "    ElementType Data[MAXSIZE];\n",
    "    int Top = -1;\n",
    "public:\n",
    "\n",
    "bool empty()\n",
    "{\n",
    "    if(Top == - 1) return true;\n",
    "    else return false;\n",
    "}\n",
    "\n",
    "bool push(ElementType x)\n",
    "{\n",
    "    if(Top < MAXSIZE - 1)\n",
    "    {\n",
    "        Data[++Top] = x;\n",
    "\n",
    "        return true;\n",
    "    }\n",
    "    else\n",
    "    {\n",
    "        std::cout << \"栈满了\" << std::endl;\n",
    "        return false;\n",
    "    }\n",
    "}\n",
    "\n",
    "ElementType top() \n",
    "{\n",
    "    if(!empty()) \n",
    "        return Data[Top];\n",
    "    else\n",
    "    {\n",
    "        cout << \"ERROR, Stack is Empty!\" << endl;\n",
    "        return -1;\n",
    "    }\n",
    "}\n",
    "\n",
    "bool pop()\n",
    "{\n",
    "    if(!empty())\n",
    "    {\n",
    "        Top--;\n",
    "        return true;\n",
    "    }\n",
    "    else\n",
    "    {\n",
    "        std::cout << \"栈已空\" << std::endl;\n",
    "        return false;\n",
    "    }\n",
    "}\n",
    "\n",
    "int size() { return Top+1; }\n",
    "\n",
    "};"
   ]
  },
  {
   "cell_type": "code",
   "execution_count": 3,
   "metadata": {},
   "outputs": [],
   "source": [
    "Stack stk;"
   ]
  },
  {
   "cell_type": "code",
   "execution_count": 4,
   "metadata": {},
   "outputs": [],
   "source": [
    "stk.push(12);\n",
    "stk.push(11);"
   ]
  },
  {
   "cell_type": "code",
   "execution_count": 5,
   "metadata": {},
   "outputs": [
    {
     "name": "stdout",
     "output_type": "stream",
     "text": [
      "size = 2\n",
      "top = 11\n"
     ]
    }
   ],
   "source": [
    "cout << \"size = \" <<  stk.size() << endl;\n",
    "cout << \"top = \" << stk.top() << endl;"
   ]
  },
  {
   "cell_type": "code",
   "execution_count": 6,
   "metadata": {},
   "outputs": [
    {
     "name": "stdout",
     "output_type": "stream",
     "text": [
      "top = 12\n"
     ]
    }
   ],
   "source": [
    "stk.pop();\n",
    "cout << \"top = \" << stk.top() << endl;"
   ]
  },
  {
   "cell_type": "code",
   "execution_count": 7,
   "metadata": {},
   "outputs": [
    {
     "name": "stdout",
     "output_type": "stream",
     "text": [
      "top = ERROR, Stack is Empty!\n",
      "-1\n"
     ]
    }
   ],
   "source": [
    "stk.pop();\n",
    "cout << \"top = \" << stk.top() << endl;"
   ]
  },
  {
   "cell_type": "code",
   "execution_count": 8,
   "metadata": {},
   "outputs": [
    {
     "name": "stdout",
     "output_type": "stream",
     "text": [
      "1\n"
     ]
    }
   ],
   "source": [
    "cout << stk.empty() << endl;"
   ]
  }
 ],
 "metadata": {
  "kernelspec": {
   "display_name": "C++11",
   "language": "C++11",
   "name": "xcpp11"
  },
  "language_info": {
   "codemirror_mode": "text/x-c++src",
   "file_extension": ".cpp",
   "mimetype": "text/x-c++src",
   "name": "c++",
   "version": "11"
  }
 },
 "nbformat": 4,
 "nbformat_minor": 2
}
