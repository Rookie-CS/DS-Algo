{
 "cells": [
  {
   "cell_type": "markdown",
   "metadata": {},
   "source": [
    "# 中后缀表达式"
   ]
  },
  {
   "cell_type": "code",
   "execution_count": 1,
   "metadata": {
    "vscode": {
     "languageId": "c++"
    }
   },
   "outputs": [],
   "source": [
    "#include <iostream>\n",
    "#include <stack>\n",
    "#include <vector>\n",
    "using namespace std;"
   ]
  },
  {
   "cell_type": "code",
   "execution_count": 2,
   "metadata": {
    "vscode": {
     "languageId": "c++"
    }
   },
   "outputs": [],
   "source": [
    "void input(vector<char>& vec)\n",
    "{\n",
    "    char ch;\n",
    "    while(true)\n",
    "    {\n",
    "    cin >> ch;\n",
    "    if((ch >= '0' && ch <= '9') || ch == '+' || ch == '-' || ch == '*' || ch == '/')\n",
    "    {\n",
    "        vec.push_back(ch);\n",
    "    }\n",
    "    else if(ch == '=') break;\n",
    "    else\n",
    "        cout << \"ERROR\" << endl;\n",
    "    }    \n",
    "}"
   ]
  },
  {
   "cell_type": "markdown",
   "metadata": {},
   "source": [
    "## 后缀表达式计算"
   ]
  },
  {
   "cell_type": "code",
   "execution_count": 3,
   "metadata": {
    "vscode": {
     "languageId": "c++"
    }
   },
   "outputs": [
    {
     "name": "stdout",
     "output_type": "stream",
     "text": [
      "后缀表达式:2 3 + \n"
     ]
    }
   ],
   "source": [
    "vector<char> vec;\n",
    "input(vec);\n",
    "cout << \"后缀表达式:\";\n",
    "for(auto x:vec)cout << x << \" \";\n",
    "cout << endl;"
   ]
  },
  {
   "cell_type": "code",
   "execution_count": 4,
   "metadata": {
    "vscode": {
     "languageId": "c++"
    }
   },
   "outputs": [
    {
     "name": "stdout",
     "output_type": "stream",
     "text": [
      "res = 5\n"
     ]
    }
   ],
   "source": [
    "stack<int> stk;\n",
    "int x1, x2;\n",
    "\n",
    "for(auto ch: vec)\n",
    "{\n",
    "    if(ch <= '9' && ch >= '0')\n",
    "    {\n",
    "      stk.push(ch - '0');  \n",
    "    }\n",
    "    else\n",
    "    {\n",
    "        x2 = stk.top();\n",
    "        stk.pop();\n",
    "        x1 = stk.top();\n",
    "        stk.pop();\n",
    "        if(ch == '+')stk.push(x1+x2);\n",
    "        else if(ch == '-')stk.push(x1-x2);\n",
    "        else if(ch == '*')stk.push(x1*x2);\n",
    "        else if(ch == '/')stk.push(x1/x2);\n",
    "    }\n",
    "}\n",
    "cout << \"res = \" << stk.top() << endl;"
   ]
  }
 ],
 "metadata": {
  "kernelspec": {
   "display_name": "C++11",
   "language": "C++11",
   "name": "xcpp11"
  },
  "language_info": {
   "codemirror_mode": "text/x-c++src",
   "file_extension": ".cpp",
   "mimetype": "text/x-c++src",
   "name": "C++11",
   "version": "11"
  }
 },
 "nbformat": 4,
 "nbformat_minor": 2
}
