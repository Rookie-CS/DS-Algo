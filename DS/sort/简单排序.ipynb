{
 "cells": [
  {
   "cell_type": "markdown",
   "metadata": {},
   "source": [
    "# 排序"
   ]
  },
  {
   "cell_type": "code",
   "execution_count": 1,
   "metadata": {},
   "outputs": [],
   "source": [
    "#include <iostream>\n",
    "#include <vector>\n",
    "\n",
    "using namespace std;"
   ]
  },
  {
   "cell_type": "code",
   "execution_count": 2,
   "metadata": {},
   "outputs": [],
   "source": [
    "#define MAXSIZE 10\n",
    "\n",
    "struct SqList{\n",
    "    int r[MAXSIZE];\n",
    "    int length;\n",
    "\n",
    "    // 构造函数\n",
    "    SqList(const std::vector<int>& nums) {\n",
    "        int size = nums.size();\n",
    "        if (size > MAXSIZE) {\n",
    "            size = MAXSIZE; // 防止越界\n",
    "        }\n",
    "\n",
    "        for (int i = 0; i < size; ++i) {\n",
    "            r[i] = nums[i];\n",
    "        }\n",
    "        length = size;\n",
    "    }\n",
    "};"
   ]
  },
  {
   "cell_type": "code",
   "execution_count": 3,
   "metadata": {},
   "outputs": [],
   "source": [
    "void Swap(SqList& L, int i , int j)\n",
    "{\n",
    "    swap(L.r[i], L.r[j]);\n",
    "}"
   ]
  },
  {
   "cell_type": "code",
   "execution_count": 8,
   "metadata": {},
   "outputs": [],
   "source": [
    "vector<int> nums{1, 9, 0, 2, 7, 4};"
   ]
  },
  {
   "cell_type": "code",
   "execution_count": 9,
   "metadata": {},
   "outputs": [],
   "source": [
    "void view(SqList& L){\n",
    "    for(int i = 0; i < L.length; i++){\n",
    "        cout << L.r[i] << \" \";\n",
    "    }\n",
    "    cout << endl;\n",
    "}"
   ]
  },
  {
   "cell_type": "markdown",
   "metadata": {},
   "source": [
    "## 简单算法 $O(n^2)$"
   ]
  },
  {
   "cell_type": "markdown",
   "metadata": {},
   "source": [
    "* 冒泡排序\n",
    "* 选择排序\n",
    "* 插入排序"
   ]
  },
  {
   "cell_type": "markdown",
   "metadata": {},
   "source": [
    "### 1. 冒泡排序"
   ]
  },
  {
   "cell_type": "markdown",
   "metadata": {},
   "source": [
    "#### 最简单的排序实现"
   ]
  },
  {
   "cell_type": "code",
   "execution_count": 16,
   "metadata": {},
   "outputs": [],
   "source": [
    "void BobbleSort0(SqList& L)\n",
    "{\n",
    "    for( int i = 0; i < L.length; i++){\n",
    "        for( int j = L.length - 1; j >  i; j--){\n",
    "            if(L.r[j-1] > L.r[j]){\n",
    "                Swap(L, j-1, j);\n",
    "            }\n",
    "        }\n",
    "    }\n",
    "}"
   ]
  },
  {
   "cell_type": "code",
   "execution_count": 17,
   "metadata": {},
   "outputs": [
    {
     "name": "stdout",
     "output_type": "stream",
     "text": [
      "1 9 0 2 7 4 \n",
      "0 1 2 4 7 9 \n"
     ]
    }
   ],
   "source": [
    "SqList L(nums);\n",
    "view(L);\n",
    "BobbleSort0(L);\n",
    "view(L);"
   ]
  },
  {
   "cell_type": "markdown",
   "metadata": {},
   "source": [
    "#### 冒泡排序优化"
   ]
  },
  {
   "cell_type": "code",
   "execution_count": 19,
   "metadata": {},
   "outputs": [],
   "source": [
    "void BubbleSort2(SqList& L)\n",
    "{\n",
    "    bool flag = true;\n",
    "    for( int i = 0; i < L.length - 1 && flag; i++){\n",
    "        flag = false;\n",
    "        for(int j = L.length - 1; j > i; j--){\n",
    "            if(L.r[j-1] > L.r[j]){\n",
    "                Swap(L, j-1, j);\n",
    "                flag = true;\n",
    "            }\n",
    "        }\n",
    "    }\n",
    "}"
   ]
  },
  {
   "cell_type": "code",
   "execution_count": 20,
   "metadata": {},
   "outputs": [
    {
     "name": "stdout",
     "output_type": "stream",
     "text": [
      "1 9 0 2 7 4 \n",
      "0 1 2 4 7 9 \n"
     ]
    }
   ],
   "source": [
    "SqList L(nums);\n",
    "view(L);\n",
    "BobbleSort0(L);\n",
    "view(L);"
   ]
  },
  {
   "cell_type": "markdown",
   "metadata": {},
   "source": [
    "### 2. 选择排序"
   ]
  },
  {
   "cell_type": "code",
   "execution_count": 21,
   "metadata": {},
   "outputs": [],
   "source": [
    "void SelectSort(SqList& L){\n",
    "    int min;\n",
    "    for(int i = 0; i < L.length - 1; i++){\n",
    "        min = i;\n",
    "        for( int j = i + 1; j < L.length; j++){\n",
    "            if(L.r[i] < L.r[min])\n",
    "                min = i;\n",
    "        }\n",
    "        Swap(L, i, min);\n",
    "    }\n",
    "}"
   ]
  },
  {
   "cell_type": "code",
   "execution_count": 22,
   "metadata": {},
   "outputs": [
    {
     "name": "stdout",
     "output_type": "stream",
     "text": [
      "1 9 0 2 7 4 \n",
      "0 1 2 4 7 9 \n"
     ]
    }
   ],
   "source": [
    "SqList L(nums);\n",
    "view(L);\n",
    "BobbleSort0(L);\n",
    "view(L);"
   ]
  },
  {
   "cell_type": "markdown",
   "metadata": {},
   "source": [
    "### 3. 直接插入排序"
   ]
  },
  {
   "cell_type": "code",
   "execution_count": 26,
   "metadata": {},
   "outputs": [],
   "source": [
    "void insertSort(SqList& L)\n",
    "{\n",
    "    for( int i = 1; i < L.length; i++){\n",
    "        int num = L.r[i];\n",
    "        int j = i -1;\n",
    "        while(j >= 0 && L.r[j] > num){\n",
    "            L.r[j+1] = L.r[j];\n",
    "            j--;\n",
    "        } \n",
    "        L.r[j+1] = num;\n",
    "    }\n",
    "} "
   ]
  },
  {
   "cell_type": "code",
   "execution_count": 27,
   "metadata": {},
   "outputs": [
    {
     "name": "stdout",
     "output_type": "stream",
     "text": [
      "1 9 0 2 7 4 \n",
      "0 1 2 4 7 9 \n"
     ]
    }
   ],
   "source": [
    "SqList L(nums);\n",
    "view(L);\n",
    "BobbleSort0(L);\n",
    "view(L);"
   ]
  },
  {
   "cell_type": "markdown",
   "metadata": {},
   "source": [
    "## 改进算法 $O(nlogn)$"
   ]
  },
  {
   "cell_type": "markdown",
   "metadata": {},
   "source": [
    "### 4. 希尔排序"
   ]
  },
  {
   "cell_type": "markdown",
   "metadata": {},
   "source": [
    "### 5. 堆排序"
   ]
  },
  {
   "cell_type": "markdown",
   "metadata": {},
   "source": [
    "### 6. 归并排序"
   ]
  },
  {
   "cell_type": "markdown",
   "metadata": {},
   "source": [
    "### 7.快速排序"
   ]
  }
 ],
 "metadata": {
  "kernelspec": {
   "display_name": "C++11",
   "language": "C++11",
   "name": "xcpp11"
  },
  "language_info": {
   "codemirror_mode": "text/x-c++src",
   "file_extension": ".cpp",
   "mimetype": "text/x-c++src",
   "name": "c++",
   "version": "11"
  }
 },
 "nbformat": 4,
 "nbformat_minor": 2
}
