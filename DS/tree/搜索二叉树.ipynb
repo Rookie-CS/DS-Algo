{
 "cells": [
  {
   "cell_type": "markdown",
   "metadata": {},
   "source": [
    "# 搜索二叉树"
   ]
  },
  {
   "cell_type": "code",
   "execution_count": 1,
   "metadata": {},
   "outputs": [],
   "source": [
    "#include <iostream>\n",
    "#include <string>\n",
    "\n",
    "using namespace std;"
   ]
  },
  {
   "cell_type": "markdown",
   "metadata": {},
   "source": [
    "## 定义"
   ]
  },
  {
   "cell_type": "code",
   "execution_count": 2,
   "metadata": {},
   "outputs": [],
   "source": [
    "struct BinNode\n",
    "{\n",
    "    int val;\n",
    "    BinNode *left, *right; \n",
    "}"
   ]
  },
  {
   "cell_type": "code",
   "execution_count": 3,
   "metadata": {},
   "outputs": [],
   "source": [
    "class BinTree\n",
    "{\n",
    "private:\n",
    "    BinNode* root = nullptr;\n",
    "    BinNode* Insert(int x, BinNode* BST);\n",
    "    void preorderRecursive(BinNode* node);\n",
    "    void printTree(BinNode* node, string indent = \"\", bool last = true, bool first = true);\n",
    "public:\n",
    "\n",
    "    void Insert(int x)\n",
    "    {\n",
    "        root = Insert(x, root);\n",
    "    }\n",
    "\n",
    "    void PreorderRecursive()\n",
    "    {\n",
    "        preorderRecursive(root);\n",
    "    }\n",
    "\n",
    "    bool Find(int x);\n",
    "    bool Delete(int x);\n",
    "    void printTree(string indent = \"\", bool last = true, bool first = true)\n",
    "    {\n",
    "        BinNode* node = root;\n",
    "        printTree(root);\n",
    "    }\n",
    "};"
   ]
  },
  {
   "cell_type": "markdown",
   "metadata": {},
   "source": [
    "## 插入"
   ]
  },
  {
   "cell_type": "code",
   "execution_count": 4,
   "metadata": {},
   "outputs": [],
   "source": [
    "BinNode* BinTree::Insert(int x, BinNode* BST)\n",
    "{\n",
    "    if(!BST)\n",
    "    {\n",
    "        BST = new BinNode;\n",
    "        BST->val = x;\n",
    "        BST->left  = BST->right = nullptr;\n",
    "    }\n",
    "    else\n",
    "    {\n",
    "        if(x < BST->val) BST->left = Insert(x, BST->left);\n",
    "        else if(x > BST->val) BST->right = Insert(x, BST->right);\n",
    "    }\n",
    "\n",
    "    return BST;\n",
    "}"
   ]
  },
  {
   "cell_type": "markdown",
   "metadata": {},
   "source": [
    "## 查找"
   ]
  },
  {
   "cell_type": "code",
   "execution_count": 5,
   "metadata": {},
   "outputs": [],
   "source": [
    "bool BinTree::Find(int x)\n",
    "{\n",
    "    BinNode* BST = root;\n",
    "    while(BST)\n",
    "    {\n",
    "        if( x < BST->val) BST = BST->left;\n",
    "        else if( x > BST->val) BST = BST->right;\n",
    "        else return true;\n",
    "    }\n",
    "\n",
    "    return false;\n",
    "}"
   ]
  },
  {
   "cell_type": "markdown",
   "metadata": {},
   "source": [
    "## 删除"
   ]
  },
  {
   "cell_type": "code",
   "execution_count": 6,
   "metadata": {},
   "outputs": [],
   "source": [
    "bool BinTree::Delete(int x)\n",
    "{\n",
    "    BinNode* BST = root;\n",
    "    BinNode* Father = nullptr;\n",
    "    bool isleft;\n",
    "    while(BST)\n",
    "    {\n",
    "        if(x < BST->val)\n",
    "        {\n",
    "            Father = BST;\n",
    "            BST = BST->left;\n",
    "            isleft = true;\n",
    "        }\n",
    "        else if( x > BST->val)\n",
    "        {\n",
    "            Father = BST;\n",
    "            BST = BST->right;\n",
    "            isleft = false;\n",
    "        }\n",
    "        else\n",
    "        {\n",
    "            break;\n",
    "        }\n",
    "    }\n",
    "    if(!BST) return false;\n",
    "    \n",
    "    if(!BST->left && !BST->right)   //叶节点\n",
    "    {\n",
    "        if(isleft) Father->left = nullptr;\n",
    "        else Father->right = nullptr;\n",
    "    }\n",
    "    else if(BST->left && BST->right)     // 左右子树均有\n",
    "    {\n",
    "        BinNode* lefttree_father = nullptr;\n",
    "        BinNode* lefttree_max = BST->left;\n",
    "        while(lefttree_max->right)\n",
    "        {\n",
    "            lefttree_father = lefttree_max;\n",
    "            lefttree_max = lefttree_max->right;\n",
    "        }\n",
    "        if(isleft) Father->left = lefttree_max;\n",
    "        else Father->right = lefttree_max;\n",
    "        lefttree_max->right = BST->right;\n",
    "        if(lefttree_father)\n",
    "        {\n",
    "            lefttree_father->right = lefttree_max->left;\n",
    "            lefttree_max->left = BST->left;\n",
    "        }\n",
    "    }\n",
    "    else if(BST->left)  // 有左子树, 无右子树\n",
    "    {\n",
    "        if(isleft) Father->left = BST->left;\n",
    "        else Father->right = BST->left;\n",
    "    }\n",
    "    else // 有右子树, 无左子树\n",
    "    {\n",
    "        if(isleft) Father->left = BST->right;\n",
    "        else Father->right = BST->right;\n",
    "    }\n",
    "\n",
    "    delete BST;\n",
    "\n",
    "    return true;\n",
    "}"
   ]
  },
  {
   "cell_type": "markdown",
   "metadata": {},
   "source": [
    "## 中序遍历"
   ]
  },
  {
   "cell_type": "code",
   "execution_count": 7,
   "metadata": {},
   "outputs": [],
   "source": [
    "\n",
    "void BinTree::preorderRecursive(BinNode* node) {\n",
    "    if (node != nullptr) {\n",
    "        preorderRecursive(node->left);\n",
    "        std::cout << node->val << \"\\t\";\n",
    "        preorderRecursive(node->right);\n",
    "    }\n",
    "}"
   ]
  },
  {
   "cell_type": "markdown",
   "metadata": {},
   "source": [
    "## 打印结果"
   ]
  },
  {
   "cell_type": "code",
   "execution_count": 8,
   "metadata": {},
   "outputs": [],
   "source": [
    "void BinTree::printTree(BinNode* node, string indent, bool last, bool first) {\n",
    "    if (node != nullptr) {\n",
    "        cout << indent;\n",
    "        if(first)\n",
    "        {\n",
    "            cout << endl <<  \"ROOT---->  \";\n",
    "            indent += \"   \";\n",
    "        }\n",
    "        else if (last) {\n",
    "            cout << \"R---->  \";\n",
    "            indent += \"   \";\n",
    "        } else {\n",
    "            cout << \"L---->  \";\n",
    "            indent += \"|  \";\n",
    "        }\n",
    "        cout << node->val << endl;\n",
    "        printTree(node->left, indent, false, false);\n",
    "        printTree(node->right, indent, true, false);\n",
    "    }\n",
    "}"
   ]
  },
  {
   "cell_type": "markdown",
   "metadata": {},
   "source": [
    "## 测试"
   ]
  },
  {
   "cell_type": "code",
   "execution_count": 9,
   "metadata": {},
   "outputs": [],
   "source": [
    "BinTree  tree;"
   ]
  },
  {
   "cell_type": "code",
   "execution_count": 10,
   "metadata": {},
   "outputs": [],
   "source": [
    "vector<int> nums{100, 12, 110, 1, -700, -1001, -122, 1130, -7010, -230, 6};\n",
    "for(int val: nums) tree.Insert(val);"
   ]
  },
  {
   "cell_type": "code",
   "execution_count": 11,
   "metadata": {},
   "outputs": [
    {
     "name": "stdout",
     "output_type": "stream",
     "text": [
      "-7010\t-1001\t-700\t-230\t-122\t1\t6\t12\t100\t110\t1130\t"
     ]
    }
   ],
   "source": [
    "tree.PreorderRecursive();"
   ]
  },
  {
   "cell_type": "code",
   "execution_count": 12,
   "metadata": {},
   "outputs": [
    {
     "name": "stdout",
     "output_type": "stream",
     "text": [
      "1\n",
      "0\n"
     ]
    }
   ],
   "source": [
    "cout << tree.Find(12) << endl;\n",
    "cout << tree.Find(11) << endl;"
   ]
  },
  {
   "cell_type": "code",
   "execution_count": 13,
   "metadata": {},
   "outputs": [
    {
     "name": "stdout",
     "output_type": "stream",
     "text": [
      "\n",
      "ROOT---->  100\n",
      "   L---->  12\n",
      "   |  L---->  1\n",
      "   |  |  L---->  -700\n",
      "   |  |  |  L---->  -1001\n",
      "   |  |  |  |  L---->  -7010\n",
      "   |  |  |  R---->  -122\n",
      "   |  |  |     L---->  -230\n",
      "   |  |  R---->  6\n",
      "   R---->  110\n",
      "      R---->  1130\n"
     ]
    }
   ],
   "source": [
    "tree.printTree();"
   ]
  },
  {
   "cell_type": "code",
   "execution_count": 14,
   "metadata": {},
   "outputs": [
    {
     "name": "stdout",
     "output_type": "stream",
     "text": [
      "1\n",
      "-7010\t-1001\t-700\t-230\t-122\t6\t12\t100\t110\t1130\t\n",
      "ROOT---->  100\n",
      "   L---->  12\n",
      "   |  L---->  -122\n",
      "   |  |  L---->  -700\n",
      "   |  |  |  L---->  -1001\n",
      "   |  |  |  |  L---->  -7010\n",
      "   |  |  |  R---->  -230\n",
      "   |  |  R---->  6\n",
      "   R---->  110\n",
      "      R---->  1130\n"
     ]
    }
   ],
   "source": [
    "cout << tree.Delete(1) << endl;\n",
    "tree.PreorderRecursive();\n",
    "tree.printTree();"
   ]
  },
  {
   "cell_type": "code",
   "execution_count": 15,
   "metadata": {},
   "outputs": [
    {
     "name": "stdout",
     "output_type": "stream",
     "text": [
      "1\n",
      "-7010\t-1001\t-230\t-122\t6\t12\t100\t110\t1130\t\n",
      "ROOT---->  100\n",
      "   L---->  12\n",
      "   |  L---->  -122\n",
      "   |  |  L---->  -1001\n",
      "   |  |  |  L---->  -7010\n",
      "   |  |  |  R---->  -230\n",
      "   |  |  R---->  6\n",
      "   R---->  110\n",
      "      R---->  1130\n"
     ]
    }
   ],
   "source": [
    "cout << tree.Delete(-700) << endl;\n",
    "tree.PreorderRecursive();\n",
    "tree.printTree();"
   ]
  },
  {
   "cell_type": "code",
   "execution_count": null,
   "metadata": {},
   "outputs": [],
   "source": []
  }
 ],
 "metadata": {
  "kernelspec": {
   "display_name": "C++11",
   "language": "C++11",
   "name": "xcpp11"
  },
  "language_info": {
   "codemirror_mode": "text/x-c++src",
   "file_extension": ".cpp",
   "mimetype": "text/x-c++src",
   "name": "c++",
   "version": "11"
  }
 },
 "nbformat": 4,
 "nbformat_minor": 2
}
