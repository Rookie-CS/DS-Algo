{
 "cells": [
  {
   "cell_type": "markdown",
   "metadata": {},
   "source": [
    "# 搜索二叉树"
   ]
  },
  {
   "cell_type": "code",
   "execution_count": 1,
   "metadata": {
    "vscode": {
     "languageId": "c++"
    }
   },
   "outputs": [],
   "source": [
    "#include <iostream>\n",
    "\n",
    "using namespace std;"
   ]
  },
  {
   "cell_type": "code",
   "execution_count": 2,
   "metadata": {
    "vscode": {
     "languageId": "c++"
    }
   },
   "outputs": [],
   "source": [
    "struct BinNode\n",
    "{\n",
    "    int val;\n",
    "    BinNode *left, *right; \n",
    "}"
   ]
  },
  {
   "cell_type": "code",
   "execution_count": 3,
   "metadata": {
    "vscode": {
     "languageId": "c++"
    }
   },
   "outputs": [],
   "source": [
    "class BinTree\n",
    "{\n",
    "private:\n",
    "    BinNode* root = nullptr;\n",
    "\n",
    "    BinNode* Insert(int x, BinNode* BST)\n",
    "    {\n",
    "        if(!BST)\n",
    "        {\n",
    "            BST = new BinNode;\n",
    "            BST->val = x;\n",
    "            BST->left  = BST->right = nullptr;\n",
    "        }\n",
    "        else\n",
    "        {\n",
    "            if(x < BST->val) BST->left = Insert(x, BST->left);\n",
    "            else if(x > BST->val) BST->right = Insert(x, BST->right);\n",
    "        }\n",
    "\n",
    "        return BST;\n",
    "    }\n",
    "\n",
    "    void preorderRecursive(BinNode* node) {\n",
    "        if (node != nullptr) {\n",
    "            std::cout << node->val << \"\\t\";\n",
    "            preorderRecursive(node->left);\n",
    "            preorderRecursive(node->right);\n",
    "        }\n",
    "    }\n",
    "\n",
    "public:\n",
    "\n",
    "    void Insert(int x)\n",
    "    {\n",
    "        root = Insert(x, root);\n",
    "    }\n",
    "\n",
    "    void PreorderRecursive()\n",
    "    {\n",
    "        preorderRecursive(root);\n",
    "    }\n",
    "\n",
    "    bool Find(int x)\n",
    "    {\n",
    "        BinNode* BST = root;\n",
    "        while(BST)\n",
    "        {\n",
    "            if( x < BST->val) BST = BST->left;\n",
    "            else if( x > BST->val) BST = BST->right;\n",
    "            else return true;\n",
    "        }\n",
    "\n",
    "        return false;\n",
    "    }\n",
    "\n",
    "    \n",
    "};"
   ]
  },
  {
   "cell_type": "code",
   "execution_count": 4,
   "metadata": {
    "vscode": {
     "languageId": "c++"
    }
   },
   "outputs": [],
   "source": [
    "BinTree  tree;"
   ]
  },
  {
   "cell_type": "code",
   "execution_count": 5,
   "metadata": {
    "vscode": {
     "languageId": "c++"
    }
   },
   "outputs": [],
   "source": [
    "tree.Insert(100);\n",
    "tree.Insert(12);\n",
    "tree.Insert(110);\n",
    "tree.Insert(700);\n",
    "tree.Insert(-700);"
   ]
  },
  {
   "cell_type": "code",
   "execution_count": 6,
   "metadata": {
    "vscode": {
     "languageId": "c++"
    }
   },
   "outputs": [
    {
     "name": "stdout",
     "output_type": "stream",
     "text": [
      "100\t12\t-700\t110\t700\t"
     ]
    }
   ],
   "source": [
    "tree.PreorderRecursive();"
   ]
  },
  {
   "cell_type": "code",
   "execution_count": 7,
   "metadata": {
    "vscode": {
     "languageId": "c++"
    }
   },
   "outputs": [
    {
     "name": "stdout",
     "output_type": "stream",
     "text": [
      "1\n",
      "0\n"
     ]
    }
   ],
   "source": [
    "cout << tree.Find(12) << endl;\n",
    "cout << tree.Find(11) << endl;"
   ]
  },
  {
   "cell_type": "code",
   "execution_count": null,
   "metadata": {
    "vscode": {
     "languageId": "c++"
    }
   },
   "outputs": [],
   "source": []
  }
 ],
 "metadata": {
  "kernelspec": {
   "display_name": "C++11",
   "language": "C++11",
   "name": "xcpp11"
  },
  "language_info": {
   "codemirror_mode": "text/x-c++src",
   "file_extension": ".cpp",
   "mimetype": "text/x-c++src",
   "name": "C++11",
   "version": "11"
  }
 },
 "nbformat": 4,
 "nbformat_minor": 2
}
