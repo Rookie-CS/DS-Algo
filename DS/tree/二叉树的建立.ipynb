{
 "cells": [
  {
   "cell_type": "markdown",
   "metadata": {
    "vscode": {
     "languageId": "python"
    }
   },
   "source": [
    "# 二叉树的建立"
   ]
  },
  {
   "cell_type": "code",
   "execution_count": 1,
   "metadata": {},
   "outputs": [],
   "source": [
    "#include <iostream>\n",
    "\n",
    "using namespace std;\n",
    "\n",
    "typedef char TElemType;\n",
    "\n",
    "struct BiTree{\n",
    "    TElemType val;\n",
    "    BiTree* left;\n",
    "    BiTree* right;\n",
    "}"
   ]
  },
  {
   "cell_type": "code",
   "execution_count": 2,
   "metadata": {},
   "outputs": [
    {
     "name": "stderr",
     "output_type": "stream",
     "text": [
      "input_line_9:5:24: error: no viable overloaded '='\n",
      "    if( val == '#') *T = nullptr;\n",
      "                    ~~ ^ ~~~~~~~\n",
      "input_line_8:4:8: note: candidate function (the implicit copy assignment operator) not viable: no known conversion from 'nullptr_t' to 'const BiTree' for 1st argument\n",
      "struct BiTree{\n",
      "       ^\n",
      "input_line_8:4:8: note: candidate function (the implicit move assignment operator) not viable: no known conversion from 'nullptr_t' to 'BiTree' for 1st argument\n",
      "input_line_9:8:12: error: no viable overloaded '='\n",
      "        *T = new BiTree;\n",
      "        ~~ ^ ~~~~~~~~~~\n",
      "input_line_8:4:8: note: candidate function (the implicit copy assignment operator) not viable: no known conversion from 'BiTree *' to 'const BiTree' for 1st argument; dereference the argument with *\n",
      "struct BiTree{\n",
      "       ^\n",
      "input_line_8:4:8: note: candidate function (the implicit move assignment operator) not viable: no known conversion from 'BiTree *' to 'BiTree' for 1st argument; dereference the argument with *\n",
      "struct BiTree{\n",
      "       ^\n",
      "input_line_9:9:9: error: indirection requires pointer operand ('int' invalid)\n",
      "        *T->val = val;\n",
      "        ^~~~~~~\n",
      "input_line_9:10:9: error: no matching function for call to 'CreateBiTree'\n",
      "        CreateBiTree(&T->left);\n",
      "        ^~~~~~~~~~~~\n",
      "input_line_9:1:6: note: candidate function not viable: no known conversion from 'BiTree **' to 'BiTree *' for 1st argument; remove &\n",
      "void CreateBiTree(BiTree *T)\n",
      "     ^\n",
      "input_line_9:11:9: error: no matching function for call to 'CreateBiTree'\n",
      "        CreateBiTree(&T->right);\n",
      "        ^~~~~~~~~~~~\n",
      "input_line_9:1:6: note: candidate function not viable: no known conversion from 'BiTree **' to 'BiTree *' for 1st argument; remove &\n",
      "void CreateBiTree(BiTree *T)\n",
      "     ^\n"
     ]
    },
    {
     "ename": "Interpreter Error",
     "evalue": "",
     "output_type": "error",
     "traceback": [
      "Interpreter Error: "
     ]
    }
   ],
   "source": [
    "void CreateBiTree(BiTree *T)\n",
    "{\n",
    "    TElemType val;\n",
    "    cin >> val;\n",
    "    if( val == '#') *T = nullptr;\n",
    "    else\n",
    "    {\n",
    "        *T = new BiTree;\n",
    "        *T->val = val;\n",
    "        CreateBiTree(&T->left);\n",
    "        CreateBiTree(&T->right);\n",
    "    }\n",
    "}"
   ]
  },
  {
   "cell_type": "code",
   "execution_count": null,
   "metadata": {},
   "outputs": [],
   "source": [
    "BiTree* tree;"
   ]
  },
  {
   "cell_type": "code",
   "execution_count": null,
   "metadata": {},
   "outputs": [
    {
     "name": "stderr",
     "output_type": "stream",
     "text": [
      "input_line_29:2:2: error: no matching function for call to 'CreateBiTree'\n",
      " CreateBiTree(&tree);\n",
      " ^~~~~~~~~~~~\n",
      "input_line_21:1:6: note: candidate function not viable: no known conversion from 'BiTree **' to 'BiTree *' for 1st argument; remove &\n",
      "void CreateBiTree(BiTree *T)\n",
      "     ^\n",
      "input_line_9:1:6: note: candidate function not viable: no known conversion from 'BiTree **' to 'BiTree *' for 1st argument\n",
      "void CreateBiTree(BiTree *T)\n",
      "     ^\n"
     ]
    },
    {
     "ename": "Interpreter Error",
     "evalue": "",
     "output_type": "error",
     "traceback": [
      "Interpreter Error: "
     ]
    }
   ],
   "source": [
    "CreateBiTree(&tree);"
   ]
  },
  {
   "cell_type": "code",
   "execution_count": null,
   "metadata": {},
   "outputs": [],
   "source": [
    "void PreOrderTraverse(BiTree* T)\n",
    "{\n",
    "    if(!T) return;\n",
    "    std::cout << T->val << std::endl;\n",
    "    PreOrderTraverse(T->left);\n",
    "    PreOrderTraverse(T->right);\n",
    "}"
   ]
  },
  {
   "cell_type": "code",
   "execution_count": null,
   "metadata": {},
   "outputs": [
    {
     "name": "stderr",
     "output_type": "stream",
     "text": [
      "input_line_27:4:18: warning: invalid memory pointer passed to a callee:\n",
      "    std::cout << T->val << std::endl;\n",
      "                 ^\n"
     ]
    },
    {
     "ename": "Interpreter Exception",
     "evalue": "",
     "output_type": "error",
     "traceback": [
      "Interpreter Exception: "
     ]
    }
   ],
   "source": [
    "PreOrderTraverse(tree);"
   ]
  },
  {
   "cell_type": "code",
   "execution_count": null,
   "metadata": {},
   "outputs": [
    {
     "name": "stderr",
     "output_type": "stream",
     "text": [
      "input_line_18:2:10: warning: null passed to a callee that requires a non-null argument [-Wnonnull]\n",
      " cout << tree->val << endl;\n",
      "         ^~~~\n"
     ]
    },
    {
     "ename": "Interpreter Exception",
     "evalue": "",
     "output_type": "error",
     "traceback": [
      "Interpreter Exception: "
     ]
    }
   ],
   "source": [
    "cout << tree->val << endl;"
   ]
  },
  {
   "cell_type": "code",
   "execution_count": null,
   "metadata": {},
   "outputs": [],
   "source": []
  }
 ],
 "metadata": {
  "kernelspec": {
   "display_name": "C++11",
   "language": "C++11",
   "name": "xcpp11"
  },
  "language_info": {
   "codemirror_mode": "text/x-c++src",
   "file_extension": ".cpp",
   "mimetype": "text/x-c++src",
   "name": "c++",
   "version": "11"
  }
 },
 "nbformat": 4,
 "nbformat_minor": 2
}
