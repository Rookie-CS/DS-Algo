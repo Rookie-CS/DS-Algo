{
 "cells": [
  {
   "cell_type": "markdown",
   "metadata": {},
   "source": [
    "# 哈夫曼树"
   ]
  },
  {
   "cell_type": "markdown",
   "metadata": {},
   "source": [
    "## 定义"
   ]
  },
  {
   "cell_type": "markdown",
   "metadata": {},
   "source": [
    "<img src='../../image/哈夫曼树定义.jpg' width='70%'>"
   ]
  },
  {
   "cell_type": "markdown",
   "metadata": {},
   "source": [
    "## 实现"
   ]
  },
  {
   "cell_type": "code",
   "execution_count": 1,
   "metadata": {
    "vscode": {
     "languageId": "c++"
    }
   },
   "outputs": [],
   "source": [
    "#include <iostream>\n",
    "#include <vector>\n",
    "#include <queue>\n",
    "\n",
    "using namespace std;"
   ]
  },
  {
   "cell_type": "markdown",
   "metadata": {},
   "source": [
    "### STL 最小堆"
   ]
  },
  {
   "cell_type": "code",
   "execution_count": 2,
   "metadata": {
    "vscode": {
     "languageId": "c++"
    }
   },
   "outputs": [],
   "source": [
    "struct TreeNode {\n",
    "    int Weight;\n",
    "    int value;\n",
    "    TreeNode *Left, *Right;\n",
    "\n",
    "    // 默认构造函数\n",
    "    TreeNode() : Weight(0), value(0), Left(nullptr), Right(nullptr) {}\n",
    "    TreeNode(int w, int v) : Weight(w), value(v), Left(nullptr), Right(nullptr) {}\n",
    "};\n"
   ]
  },
  {
   "cell_type": "code",
   "execution_count": 3,
   "metadata": {
    "vscode": {
     "languageId": "c++"
    }
   },
   "outputs": [],
   "source": [
    "struct CompareTreeNode {\n",
    "    bool operator()(TreeNode* const& n1, TreeNode* const& n2) {\n",
    "        return n1->Weight > n2->Weight;\n",
    "    }\n",
    "};"
   ]
  },
  {
   "cell_type": "code",
   "execution_count": 4,
   "metadata": {
    "vscode": {
     "languageId": "c++"
    }
   },
   "outputs": [],
   "source": [
    "typedef struct TreeNode *HuffmanTree;\n",
    "typedef priority_queue<HuffmanTree, vector<HuffmanTree>, CompareTreeNode> MinHeap;"
   ]
  },
  {
   "cell_type": "markdown",
   "metadata": {},
   "source": [
    "### 哈夫曼树"
   ]
  },
  {
   "cell_type": "code",
   "execution_count": 5,
   "metadata": {
    "vscode": {
     "languageId": "c++"
    }
   },
   "outputs": [],
   "source": [
    "HuffmanTree Huffman( MinHeap H)\n",
    "{\n",
    "    HuffmanTree T;\n",
    "    while(H.size() > 1)\n",
    "    {\n",
    "        T = new TreeNode;\n",
    "        T->Left = H.top();\n",
    "        H.pop();\n",
    "        T->Right = H.top();\n",
    "        H.pop();\n",
    "        T->Weight = T->Left->Weight + T->Right->Weight;\n",
    "        H.push(T);\n",
    "    }\n",
    "    return H.top();\n",
    "}"
   ]
  },
  {
   "cell_type": "markdown",
   "metadata": {},
   "source": [
    "## 测试"
   ]
  },
  {
   "cell_type": "markdown",
   "metadata": {},
   "source": [
    "### 编码数字和对应权重"
   ]
  },
  {
   "cell_type": "code",
   "execution_count": 6,
   "metadata": {
    "vscode": {
     "languageId": "c++"
    }
   },
   "outputs": [],
   "source": [
    "vector<int> weights{2, 4, 6, 10, 5};\n",
    "vector<int> values{1, 2, 3, 4, 5};"
   ]
  },
  {
   "cell_type": "markdown",
   "metadata": {},
   "source": [
    "### 插入最小堆"
   ]
  },
  {
   "cell_type": "code",
   "execution_count": 7,
   "metadata": {
    "vscode": {
     "languageId": "c++"
    }
   },
   "outputs": [],
   "source": [
    "MinHeap min_heap;\n",
    "for(int i = 0; i < weights.size(); i++)\n",
    "{\n",
    "    min_heap.push(new TreeNode(weights[i], values[i]));\n",
    "}"
   ]
  },
  {
   "cell_type": "markdown",
   "metadata": {},
   "source": [
    "### 构造哈夫曼树"
   ]
  },
  {
   "cell_type": "code",
   "execution_count": 8,
   "metadata": {
    "vscode": {
     "languageId": "c++"
    }
   },
   "outputs": [],
   "source": [
    "HuffmanTree huffman_tree = Huffman(min_heap);"
   ]
  },
  {
   "cell_type": "markdown",
   "metadata": {},
   "source": [
    "### 打印结果"
   ]
  },
  {
   "cell_type": "code",
   "execution_count": 9,
   "metadata": {
    "vscode": {
     "languageId": "c++"
    }
   },
   "outputs": [],
   "source": [
    "void printTree(HuffmanTree node, string indent = \"\", bool last = true, bool first = true) {\n",
    "    if (node != nullptr) {\n",
    "        cout << indent;\n",
    "        if(first)\n",
    "        {\n",
    "            cout << \"ROOT----\";\n",
    "            indent += \"   \";\n",
    "        }\n",
    "        else if (last) {\n",
    "            cout << \"R----\";\n",
    "            indent += \"   \";\n",
    "        } else {\n",
    "            cout << \"L----\";\n",
    "            indent += \"|  \";\n",
    "        }\n",
    "        if(node->value)\n",
    "            cout << \"W:\" << node->Weight  << \" -> V:\" << node->value << endl;\n",
    "        else\n",
    "            cout << \"W:\" << node->Weight << endl;\n",
    "        printTree(node->Left, indent, false, false);\n",
    "        printTree(node->Right, indent, true, false);\n",
    "    }\n",
    "}"
   ]
  },
  {
   "cell_type": "code",
   "execution_count": 10,
   "metadata": {
    "vscode": {
     "languageId": "c++"
    }
   },
   "outputs": [
    {
     "name": "stdout",
     "output_type": "stream",
     "text": [
      "ROOT----W:27\n",
      "   L----W:11\n",
      "   |  L----W:5 -> V:5\n",
      "   |  R----W:6 -> V:3\n",
      "   R----W:16\n",
      "      L----W:6\n",
      "      |  L----W:2 -> V:1\n",
      "      |  R----W:4 -> V:2\n",
      "      R----W:10 -> V:4\n"
     ]
    }
   ],
   "source": [
    "printTree(huffman_tree);"
   ]
  }
 ],
 "metadata": {
  "kernelspec": {
   "display_name": "C++11",
   "language": "C++11",
   "name": "xcpp11"
  },
  "language_info": {
   "codemirror_mode": "text/x-c++src",
   "file_extension": ".cpp",
   "mimetype": "text/x-c++src",
   "name": "C++11",
   "version": "11"
  }
 },
 "nbformat": 4,
 "nbformat_minor": 2
}
