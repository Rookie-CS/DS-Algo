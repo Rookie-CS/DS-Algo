{
 "cells": [
  {
   "cell_type": "markdown",
   "metadata": {
    "vscode": {
     "languageId": "python"
    }
   },
   "source": [
    "# 平衡二叉树"
   ]
  },
  {
   "cell_type": "markdown",
   "metadata": {},
   "source": [
    "&emsp;&emsp;搜索树结点不同的插入次序, 将导致不同的深度和平均查找长度ASL"
   ]
  },
  {
   "cell_type": "markdown",
   "metadata": {},
   "source": [
    "> 什么是平衡二叉树?<br>\n",
    "> \"平衡因子\"(BF): $BF(T) = h_L - h_R$<br>\n",
    "> 其中$h_L$和$h_R$分别为T的左右子树的高度<br><br>\n",
    "<b/>&emsp;&emsp;平衡二叉树(AVL树):任一结点的左右子树高度差的绝对值不超过1, 即|BF(T)| <= 1 <b>"
   ]
  },
  {
   "cell_type": "code",
   "execution_count": 1,
   "metadata": {
    "vscode": {
     "languageId": "c++"
    }
   },
   "outputs": [],
   "source": [
    "#include <iostream>\n",
    "\n",
    "using namespace std;"
   ]
  },
  {
   "cell_type": "markdown",
   "metadata": {},
   "source": [
    "## 结构体定义"
   ]
  },
  {
   "cell_type": "code",
   "execution_count": 2,
   "metadata": {
    "vscode": {
     "languageId": "c++"
    }
   },
   "outputs": [],
   "source": [
    "struct TreeNode {\n",
    "    int val;\n",
    "    TreeNode *left;\n",
    "    TreeNode *right;\n",
    "    int height;\n",
    "    \n",
    "    TreeNode(int x) : val(x), left(nullptr), right(nullptr), height(1) {}\n",
    "};"
   ]
  },
  {
   "cell_type": "markdown",
   "metadata": {},
   "source": [
    "#### 获取节点高度"
   ]
  },
  {
   "cell_type": "code",
   "execution_count": 3,
   "metadata": {
    "vscode": {
     "languageId": "c++"
    }
   },
   "outputs": [],
   "source": [
    "int height(TreeNode* node) {\n",
    "    return node ? node->height : 0;\n",
    "}"
   ]
  },
  {
   "cell_type": "markdown",
   "metadata": {},
   "source": [
    "#### 获取节点的平衡因子"
   ]
  },
  {
   "cell_type": "code",
   "execution_count": 4,
   "metadata": {
    "vscode": {
     "languageId": "c++"
    }
   },
   "outputs": [],
   "source": [
    "int getBalanceFactor(TreeNode* node) {\n",
    "    return node ? height(node->left) - height(node->right) : 0;\n",
    "}"
   ]
  },
  {
   "cell_type": "markdown",
   "metadata": {},
   "source": [
    "#### 更新节点高度"
   ]
  },
  {
   "cell_type": "code",
   "execution_count": 5,
   "metadata": {
    "vscode": {
     "languageId": "c++"
    }
   },
   "outputs": [],
   "source": [
    "void updateHeight(TreeNode* node) {\n",
    "    node->height = 1 + max(height(node->left), height(node->right));\n",
    "}"
   ]
  },
  {
   "cell_type": "markdown",
   "metadata": {},
   "source": [
    "#### 旋转 "
   ]
  },
  {
   "cell_type": "markdown",
   "metadata": {},
   "source": [
    "##### 右旋转"
   ]
  },
  {
   "cell_type": "code",
   "execution_count": 6,
   "metadata": {
    "vscode": {
     "languageId": "c++"
    }
   },
   "outputs": [],
   "source": [
    "TreeNode* rightRotate(TreeNode* y) {\n",
    "    TreeNode* x = y->left;\n",
    "    TreeNode* T2 = x->right;\n",
    "    \n",
    "    // 旋转\n",
    "    x->right = y;\n",
    "    y->left = T2;\n",
    "    \n",
    "    // 更新高度\n",
    "    updateHeight(y);\n",
    "    updateHeight(x);\n",
    "    \n",
    "    return x;\n",
    "}"
   ]
  },
  {
   "cell_type": "markdown",
   "metadata": {},
   "source": [
    "##### 左旋转"
   ]
  },
  {
   "cell_type": "code",
   "execution_count": 7,
   "metadata": {
    "vscode": {
     "languageId": "c++"
    }
   },
   "outputs": [],
   "source": [
    "TreeNode* leftRotate(TreeNode* x) {\n",
    "    TreeNode* y = x->right;\n",
    "    TreeNode* T2 = y->left;\n",
    "    \n",
    "    // 旋转\n",
    "    y->left = x;\n",
    "    x->right = T2;\n",
    "    \n",
    "    // 更新高度\n",
    "    updateHeight(x);\n",
    "    updateHeight(y);\n",
    "    \n",
    "    return y;\n",
    "}"
   ]
  },
  {
   "cell_type": "markdown",
   "metadata": {},
   "source": [
    "#### 插入操作"
   ]
  },
  {
   "cell_type": "code",
   "execution_count": 8,
   "metadata": {
    "vscode": {
     "languageId": "c++"
    }
   },
   "outputs": [],
   "source": [
    "TreeNode* insert(TreeNode* node, int key) {\n",
    "    // 标准BST插入\n",
    "    if (!node) \n",
    "        return new TreeNode(key);\n",
    "    if (key < node->val)\n",
    "        node->left = insert(node->left, key);\n",
    "    else if (key > node->val)\n",
    "        node->right = insert(node->right, key);\n",
    "    else // 相等的key不允许插入\n",
    "        return node;\n",
    "    \n",
    "    // 更新当前节点的高度\n",
    "    updateHeight(node);\n",
    "    \n",
    "    // 检查平衡因子\n",
    "    int balance = getBalanceFactor(node);\n",
    "    \n",
    "    // 左左情况\n",
    "    if (balance > 1 && key < node->left->val)\n",
    "        return rightRotate(node);\n",
    "    \n",
    "    // 右右情况\n",
    "    if (balance < -1 && key > node->right->val)\n",
    "        return leftRotate(node);\n",
    "    \n",
    "    // 左右情况\n",
    "    if (balance > 1 && key > node->left->val) {\n",
    "        node->left = leftRotate(node->left);\n",
    "        return rightRotate(node);\n",
    "    }\n",
    "    \n",
    "    // 右左情况\n",
    "    if (balance < -1 && key < node->right->val) {\n",
    "        node->right = rightRotate(node->right);\n",
    "        return leftRotate(node);\n",
    "    }\n",
    "    \n",
    "    return node;\n",
    "}"
   ]
  },
  {
   "cell_type": "markdown",
   "metadata": {},
   "source": [
    "#### 中序遍历"
   ]
  },
  {
   "cell_type": "code",
   "execution_count": 9,
   "metadata": {
    "vscode": {
     "languageId": "c++"
    }
   },
   "outputs": [],
   "source": [
    "void inOrder(TreeNode* root) {\n",
    "    if (root != nullptr) {\n",
    "        inOrder(root->left);\n",
    "        cout << root->val << \" \";\n",
    "        inOrder(root->right);\n",
    "    }\n",
    "}"
   ]
  },
  {
   "cell_type": "code",
   "execution_count": 10,
   "metadata": {
    "vscode": {
     "languageId": "c++"
    }
   },
   "outputs": [
    {
     "name": "stdout",
     "output_type": "stream",
     "text": [
      "中序遍历结果: 10 20 25 30 40 50 "
     ]
    }
   ],
   "source": [
    "TreeNode* root = nullptr;\n",
    "    \n",
    "// 插入节点\n",
    "root = insert(root, 10);\n",
    "root = insert(root, 20);\n",
    "root = insert(root, 30);\n",
    "root = insert(root, 40);\n",
    "root = insert(root, 50);\n",
    "root = insert(root, 25);\n",
    "\n",
    "// 打印中序遍历结果\n",
    "cout << \"中序遍历结果: \";\n",
    "inOrder(root);"
   ]
  },
  {
   "cell_type": "code",
   "execution_count": null,
   "metadata": {
    "vscode": {
     "languageId": "c++"
    }
   },
   "outputs": [],
   "source": []
  }
 ],
 "metadata": {
  "kernelspec": {
   "display_name": "C++11",
   "language": "C++11",
   "name": "xcpp11"
  },
  "language_info": {
   "codemirror_mode": "text/x-c++src",
   "file_extension": ".cpp",
   "mimetype": "text/x-c++src",
   "name": "C++11",
   "version": "11"
  }
 },
 "nbformat": 4,
 "nbformat_minor": 2
}
