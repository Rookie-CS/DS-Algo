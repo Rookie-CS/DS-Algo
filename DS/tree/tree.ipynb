{
 "cells": [
  {
   "cell_type": "code",
   "execution_count": 1,
   "metadata": {
    "vscode": {
     "languageId": "c++"
    }
   },
   "outputs": [],
   "source": [
    "#include <iostream>\n",
    "#include <vector>\n",
    "#include \"tree.cpp\""
   ]
  },
  {
   "cell_type": "markdown",
   "metadata": {},
   "source": [
    "## 顺序存储结构"
   ]
  },
  {
   "cell_type": "markdown",
   "metadata": {},
   "source": [
    "> 适合完全二叉树, 满足如下特性:\n",
    "* 非根节点( 序号 i > 1 )的父节点的序号是(int)(i /2 )\n",
    "* 序号为 i 的 节点 的 左子树 序号为 2i, 右子树为2i+1, 若其大于二叉树的总结点数, 则说明其不存在该子节点"
   ]
  },
  {
   "cell_type": "code",
   "execution_count": 2,
   "metadata": {
    "vscode": {
     "languageId": "c++"
    }
   },
   "outputs": [],
   "source": [
    "void PrintVectorTree1d(std::vector<int>& vec)\n",
    "{\n",
    "    int lev = 0, levnum = 0, overnum = 1;\n",
    "    for( int i = 0; i < vec.size(); i++){\n",
    "        printf(\"%d\\t\", vec[i]);\n",
    "        levnum++;\n",
    "        if(levnum == overnum)\n",
    "        {\n",
    "            printf(\"\\n\");\n",
    "            overnum *= 2;\n",
    "            lev++;\n",
    "            levnum = 0;\n",
    "        }\n",
    "    }\n",
    "    printf(\"\\n\");\n",
    "}"
   ]
  },
  {
   "cell_type": "code",
   "execution_count": 3,
   "metadata": {
    "vscode": {
     "languageId": "c++"
    }
   },
   "outputs": [
    {
     "name": "stdout",
     "output_type": "stream",
     "text": [
      "2\t\n",
      "4\t5\t\n",
      "-1\t9\t10\t\n"
     ]
    }
   ],
   "source": [
    "std::vector<int> arrtree{2, 4, 5, -1, 9, 10};\n",
    "PrintVectorTree1d(arrtree);"
   ]
  },
  {
   "cell_type": "markdown",
   "metadata": {},
   "source": [
    "### 先序遍历"
   ]
  },
  {
   "cell_type": "markdown",
   "metadata": {},
   "source": [
    "1. 访问根节点\n",
    "2. 先序遍历其左子树\n",
    "3. 先序遍历其右子树"
   ]
  },
  {
   "cell_type": "code",
   "execution_count": 4,
   "metadata": {
    "vscode": {
     "languageId": "c++"
    }
   },
   "outputs": [],
   "source": [
    "void PreOrderTraversal(std::vector<int>& BT, int root = 0)\n",
    "{\n",
    "    if(root < BT.size())\n",
    "    {   \n",
    "        std::cout << \"[\" << root + 1 << \"] \" <<  BT[root] << \"\\t\";\n",
    "        PreOrderTraversal(BT, root * 2 + 1);\n",
    "        PreOrderTraversal(BT, root * 2 + 2);\n",
    "    }\n",
    "}"
   ]
  },
  {
   "cell_type": "code",
   "execution_count": 5,
   "metadata": {
    "vscode": {
     "languageId": "c++"
    }
   },
   "outputs": [
    {
     "name": "stdout",
     "output_type": "stream",
     "text": [
      "[1] 2\t[2] 4\t[4] -1\t[5] 9\t[3] 5\t[6] 10\t"
     ]
    }
   ],
   "source": [
    "PreOrderTraversal(arrtree);"
   ]
  },
  {
   "cell_type": "markdown",
   "metadata": {},
   "source": [
    "### 中序遍历"
   ]
  },
  {
   "cell_type": "code",
   "execution_count": 6,
   "metadata": {
    "vscode": {
     "languageId": "c++"
    }
   },
   "outputs": [],
   "source": [
    "void InOrderTraversal(std::vector<int>& BT, int root = 0)\n",
    "{\n",
    "    if(root < BT.size())\n",
    "    {   \n",
    "        InOrderTraversal(BT, root * 2 + 1);\n",
    "        std::cout << \"[\" << root + 1 << \"]\" <<  BT[root] << \"\\t\";\n",
    "        InOrderTraversal(BT, root * 2 + 2);\n",
    "    }\n",
    "}"
   ]
  },
  {
   "cell_type": "code",
   "execution_count": 7,
   "metadata": {
    "vscode": {
     "languageId": "c++"
    }
   },
   "outputs": [
    {
     "name": "stdout",
     "output_type": "stream",
     "text": [
      "[4]-1\t[2]4\t[5]9\t[1]2\t[6]10\t[3]5\t"
     ]
    }
   ],
   "source": [
    "InOrderTraversal(arrtree);"
   ]
  },
  {
   "cell_type": "markdown",
   "metadata": {},
   "source": [
    "### 后序遍历 "
   ]
  },
  {
   "cell_type": "code",
   "execution_count": 8,
   "metadata": {
    "vscode": {
     "languageId": "c++"
    }
   },
   "outputs": [],
   "source": [
    "void PostOrderTraversal(std::vector<int>& BT, int root = 0)\n",
    "{\n",
    "    if(root < BT.size())\n",
    "    {   \n",
    "        PostOrderTraversal(BT, root * 2 + 1);\n",
    "        PostOrderTraversal(BT, root * 2 + 2);\n",
    "        std::cout << \"[\" << root + 1 << \"]\" <<  BT[root] << \"\\t\";\n",
    "    }\n",
    "}"
   ]
  },
  {
   "cell_type": "code",
   "execution_count": 9,
   "metadata": {
    "vscode": {
     "languageId": "c++"
    }
   },
   "outputs": [
    {
     "name": "stdout",
     "output_type": "stream",
     "text": [
      "[4]-1\t[5]9\t[2]4\t[6]10\t[3]5\t[1]2\t"
     ]
    }
   ],
   "source": [
    "PostOrderTraversal(arrtree);"
   ]
  },
  {
   "cell_type": "code",
   "execution_count": null,
   "metadata": {
    "vscode": {
     "languageId": "c++"
    }
   },
   "outputs": [],
   "source": []
  },
  {
   "cell_type": "markdown",
   "metadata": {},
   "source": [
    "## 链表存储结构"
   ]
  },
  {
   "cell_type": "markdown",
   "metadata": {},
   "source": [
    "> 在tree.cpp 文件中实现"
   ]
  },
  {
   "cell_type": "code",
   "execution_count": 10,
   "metadata": {
    "vscode": {
     "languageId": "c++"
    }
   },
   "outputs": [],
   "source": [
    "BinaryTree bintree;"
   ]
  },
  {
   "cell_type": "code",
   "execution_count": 11,
   "metadata": {
    "vscode": {
     "languageId": "c++"
    }
   },
   "outputs": [],
   "source": [
    "for( int i = 0; i < arrtree.size(); i++)\n",
    "{\n",
    "    bintree.insert(arrtree[i]);\n",
    "}"
   ]
  },
  {
   "cell_type": "markdown",
   "metadata": {},
   "source": [
    "### 先序遍历"
   ]
  },
  {
   "cell_type": "code",
   "execution_count": 14,
   "metadata": {
    "vscode": {
     "languageId": "c++"
    }
   },
   "outputs": [
    {
     "name": "stdout",
     "output_type": "stream",
     "text": [
      "递归先序遍历\n",
      "2\t-1\t4\t5\t9\t10\t\n",
      "堆栈先序遍历\n",
      "2\t-1\t4\t5\t9\t10\t\n"
     ]
    }
   ],
   "source": [
    "bintree.preorderTraversal();\n",
    "bintree.preorderTraversal(true)"
   ]
  },
  {
   "cell_type": "markdown",
   "metadata": {},
   "source": [
    "### 中序遍历"
   ]
  },
  {
   "cell_type": "code",
   "execution_count": 15,
   "metadata": {
    "vscode": {
     "languageId": "c++"
    }
   },
   "outputs": [
    {
     "name": "stdout",
     "output_type": "stream",
     "text": [
      "递归中序遍历\n",
      "-1\t2\t4\t5\t9\t10\t\n",
      "堆栈中序遍历\n",
      "-1\t2\t4\t5\t9\t10\t\n"
     ]
    }
   ],
   "source": [
    "bintree.inorderTraversal();\n",
    "bintree.inorderTraversal(true);"
   ]
  },
  {
   "cell_type": "markdown",
   "metadata": {},
   "source": [
    "### 后序遍历"
   ]
  },
  {
   "cell_type": "code",
   "execution_count": 16,
   "metadata": {
    "vscode": {
     "languageId": "c++"
    }
   },
   "outputs": [
    {
     "name": "stdout",
     "output_type": "stream",
     "text": [
      "递归后序遍历\n",
      "-1\t10\t9\t5\t4\t2\t\n",
      "堆栈后序遍历\n",
      "-1\t10\t9\t5\t4\t2\t\n"
     ]
    }
   ],
   "source": [
    "bintree.postorderTraversal();\n",
    "bintree.postorderTraversal(true);"
   ]
  },
  {
   "cell_type": "code",
   "execution_count": null,
   "metadata": {
    "vscode": {
     "languageId": "c++"
    }
   },
   "outputs": [],
   "source": []
  }
 ],
 "metadata": {
  "kernelspec": {
   "display_name": "C++11",
   "language": "C++11",
   "name": "xcpp11"
  },
  "language_info": {
   "codemirror_mode": "text/x-c++src",
   "file_extension": ".cpp",
   "mimetype": "text/x-c++src",
   "name": "C++11",
   "version": "11"
  }
 },
 "nbformat": 4,
 "nbformat_minor": 2
}
