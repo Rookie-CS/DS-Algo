{
 "cells": [
  {
   "cell_type": "markdown",
   "metadata": {},
   "source": [
    "# 最长连续序列"
   ]
  },
  {
   "cell_type": "code",
   "execution_count": 1,
   "metadata": {
    "vscode": {
     "languageId": "c++"
    }
   },
   "outputs": [],
   "source": [
    "#include <algorithm>\n",
    "#include <iostream>\n",
    "#include <vector>\n",
    "#include <unordered_map>\n",
    "\n",
    "using namespace std;"
   ]
  },
  {
   "cell_type": "markdown",
   "metadata": {},
   "source": [
    "## 实现"
   ]
  },
  {
   "cell_type": "code",
   "execution_count": 2,
   "metadata": {
    "vscode": {
     "languageId": "c++"
    }
   },
   "outputs": [],
   "source": [
    "class Solution {\n",
    "public:\n",
    "    int longestConsecutive(vector<int>& nums) {\n",
    "        unordered_map<int, int> hash;\n",
    "        for(int num: nums)\n",
    "        {\n",
    "            if(hash.find(num - 1) != hash.end())    // 查找是否存在其左侧的连续元素\n",
    "            {\n",
    "                if(hash[num-1] == num - 1)  // 代表是单个点\n",
    "                {\n",
    "                    hash[num-1] = num;  // 更新关联右侧连续点\n",
    "                    hash[num] = num - 1; // 加入当前元素, 并关联左侧连续点\n",
    "                }\n",
    "                else if(hash[num-1] < num - 1) // 代表其已经有关联匹配的左边界点\n",
    "                {\n",
    "                    hash[hash[num-1]] = num;    // 更新左边界点的关联为当前num\n",
    "                    hash[num] = hash[num-1];  // 加入当前右边界num, 并关联左边界\n",
    "                    hash.erase(num-1);  // 剔除 num - 1边界点记录\n",
    "                }\n",
    "            }\n",
    "            else if(hash.find(num + 1) != hash.end()) // 查找是否存在其右侧的连续元素\n",
    "            {\n",
    "                if(hash[num + 1] == num + 1)  // 代表是单个点\n",
    "                {\n",
    "                    hash[num+1] = num;  // 更新关联左侧连续点\n",
    "                    hash[num] = num + 1; // 加入当前元素, 并关联右侧连续点\n",
    "                }\n",
    "                else if(hash[num + 1] > num + 1) // 代表其已经有关联匹配的右边界点\n",
    "                {\n",
    "                    hash[hash[num+1]] = num;    // 更新右边界点的关联为当前num\n",
    "                    hash[num] = hash[num+1];  // 加入当前左边界num, 并关联右边界\n",
    "                    hash.erase(num+1);  // 剔除 num + 1 边界点记录\n",
    "                }\n",
    "            }\n",
    "            else if(hash.find(num) == hash.end())\n",
    "            {\n",
    "                hash[num] = num;\n",
    "            }\n",
    "\n",
    "            cout << \"[\" << num << \"] \";\n",
    "            for(auto iter: hash)cout << iter.first << \" \" << iter.second << \";\";\n",
    "            cout << endl;\n",
    "        }\n",
    "\n",
    "        for (auto iter = hash.begin(); iter != hash.end(); ) {\n",
    "            if (iter->first > iter->second) {\n",
    "                iter = hash.erase(iter);\n",
    "            } else {\n",
    "                ++iter;\n",
    "            }\n",
    "        }\n",
    "\n",
    "\n",
    "        for(auto iter: hash)cout << iter.first << \" \" << iter.second << \";\";\n",
    "        cout << endl;\n",
    "        \n",
    "        for (auto iter = hash.begin(); iter != hash.end(); )\n",
    "        {\n",
    "            if (hash.find(iter->second + 1) != hash.end())\n",
    "            {\n",
    "                hash[iter->first] = hash[iter->second + 1];\n",
    "            }\n",
    "            else if (hash.find(iter->second) != hash.end() && hash[iter->second] != iter->second)\n",
    "            {\n",
    "                hash[iter->first] = hash[iter->second];\n",
    "            }\n",
    "            else iter++;\n",
    "        }\n",
    "\n",
    "        for(auto iter: hash)cout << iter.first << \" \" << iter.second << \";\";\n",
    "        cout << endl;\n",
    "        \n",
    "\n",
    "        int _max = 0;\n",
    "        for(auto iter: hash)\n",
    "        {\n",
    "            cout << iter.first << \" \" << iter.second << \";\";\n",
    "            _max = max(iter.second - iter.first + 1, _max); \n",
    "        }\n",
    "\n",
    "        return _max;\n",
    "\n",
    "    }\n",
    "};"
   ]
  },
  {
   "cell_type": "markdown",
   "metadata": {},
   "source": [
    "## 测试"
   ]
  },
  {
   "cell_type": "code",
   "execution_count": 3,
   "metadata": {
    "vscode": {
     "languageId": "c++"
    }
   },
   "outputs": [],
   "source": [
    "vector<int> vec{-3,2,8,5,1,7,-8,2,-8,-4,-1,6,-6,9,6,0,-7,4,5,-4,8,2,0,-2,-6,9,-4,-1};"
   ]
  },
  {
   "cell_type": "code",
   "execution_count": 4,
   "metadata": {
    "vscode": {
     "languageId": "c++"
    }
   },
   "outputs": [
    {
     "name": "stdout",
     "output_type": "stream",
     "text": [
      "[-3] -3 -3;\n",
      "[2] 2 2;-3 -3;\n",
      "[8] 8 8;2 2;-3 -3;\n",
      "[5] 5 5;8 8;2 2;-3 -3;\n",
      "[1] 1 2;5 5;8 8;2 1;-3 -3;\n",
      "[7] 7 8;1 2;5 5;8 7;2 1;-3 -3;\n",
      "[-8] 7 8;1 2;5 5;-8 -8;8 7;2 1;-3 -3;\n",
      "[2] 7 8;1 2;5 5;-8 -8;8 7;2 1;-3 -3;\n",
      "[-8] 7 8;1 2;5 5;-8 -8;8 7;2 1;-3 -3;\n",
      "[-4] -4 -3;7 8;1 2;5 5;-8 -8;8 7;2 1;-3 -4;\n",
      "[-1] -4 -3;7 8;1 2;5 5;-8 -8;8 7;-1 -1;2 1;-3 -4;\n",
      "[6] 6 5;-4 -3;7 8;1 2;5 6;-8 -8;8 7;-1 -1;2 1;-3 -4;\n",
      "[-6] -6 -6;6 5;-4 -3;7 8;1 2;5 6;-8 -8;8 7;-1 -1;2 1;-3 -4;\n",
      "[9] 9 7;-6 -6;6 5;-4 -3;7 9;1 2;5 6;-8 -8;-1 -1;2 1;-3 -4;\n",
      "[6] 9 7;-6 -6;6 5;-4 -3;7 9;1 2;5 6;-8 -8;-1 -1;2 1;-3 -4;\n",
      "[0] 9 7;-6 -6;6 5;-4 -3;7 9;1 2;5 6;-8 -8;-1 0;2 1;0 -1;-3 -4;\n",
      "[-7] -7 -8;9 7;-6 -6;6 5;-4 -3;7 9;1 2;5 6;-8 -7;-1 0;2 1;0 -1;-3 -4;\n",
      "[4] 4 6;-3 -4;0 -1;2 1;-1 0;-8 -7;1 2;7 9;-4 -3;6 4;-6 -6;9 7;-7 -8;\n",
      "[5] 4 6;-3 -4;0 -1;2 1;-1 0;-8 -7;1 2;7 9;-4 -3;6 4;-6 -6;9 7;-7 -8;\n",
      "[-4] 4 6;-3 -4;0 -1;2 1;-1 0;-8 -7;1 2;7 9;-4 -3;6 4;-6 -6;9 7;-7 -8;\n",
      "[8] 4 6;-3 -4;0 -1;2 1;-1 0;-8 -7;1 2;7 9;-4 -3;6 4;-6 -6;9 7;-7 -8;\n",
      "[2] 4 6;-3 -4;0 -1;2 1;-1 0;-8 -7;1 2;7 9;-4 -3;6 4;-6 -6;9 7;-7 -8;\n",
      "[0] 4 6;-3 -4;0 -1;2 1;-1 0;-8 -7;1 2;7 9;-4 -3;6 4;-6 -6;9 7;-7 -8;\n",
      "[-2] -2 -4;4 6;0 -1;2 1;-1 0;-8 -7;1 2;7 9;-4 -2;6 4;-6 -6;9 7;-7 -8;\n",
      "[-6] -2 -4;4 6;0 -1;2 1;-1 0;-8 -6;1 2;7 9;-4 -2;6 4;-6 -8;9 7;\n",
      "[9] -2 -4;4 6;0 -1;2 1;-1 0;-8 -6;1 2;7 9;-4 -2;6 4;-6 -8;9 7;\n",
      "[-4] -2 -4;4 6;0 -1;2 1;-1 0;-8 -6;1 2;7 9;-4 -2;6 4;-6 -8;9 7;\n",
      "[-1] 4 6;0 -1;2 1;-1 -4;-8 -6;1 2;7 9;-4 -1;6 4;-6 -8;9 7;\n",
      "4 6;-8 -6;1 2;7 9;-4 -1;\n",
      "4 9;-8 -6;1 2;7 9;-4 -1;\n",
      "4 9;-8 -6;1 2;7 9;-4 -1;"
     ]
    }
   ],
   "source": [
    "// Solution s;\n",
    "int _max = Solution().longestConsecutive(vec);"
   ]
  },
  {
   "cell_type": "code",
   "execution_count": 5,
   "metadata": {
    "vscode": {
     "languageId": "c++"
    }
   },
   "outputs": [
    {
     "name": "stdout",
     "output_type": "stream",
     "text": [
      "6\n"
     ]
    }
   ],
   "source": [
    "cout << _max << endl;"
   ]
  },
  {
   "cell_type": "code",
   "execution_count": 6,
   "metadata": {
    "vscode": {
     "languageId": "c++"
    }
   },
   "outputs": [
    {
     "name": "stdout",
     "output_type": "stream",
     "text": [
      "-8 -8 -7 -6 -6 -4 -4 -4 -3 -2 -1 -1 0 0 1 2 2 2 4 5 5 6 6 7 8 8 9 9 "
     ]
    }
   ],
   "source": [
    "sort(vec.begin(), vec.end());\n",
    "for(auto n: vec) cout << n << \" \";"
   ]
  },
  {
   "cell_type": "code",
   "execution_count": null,
   "metadata": {
    "vscode": {
     "languageId": "c++"
    }
   },
   "outputs": [],
   "source": []
  }
 ],
 "metadata": {
  "kernelspec": {
   "display_name": "C++11",
   "language": "C++11",
   "name": "xcpp11"
  },
  "language_info": {
   "codemirror_mode": "text/x-c++src",
   "file_extension": ".cpp",
   "mimetype": "text/x-c++src",
   "name": "C++11",
   "version": "11"
  }
 },
 "nbformat": 4,
 "nbformat_minor": 2
}
