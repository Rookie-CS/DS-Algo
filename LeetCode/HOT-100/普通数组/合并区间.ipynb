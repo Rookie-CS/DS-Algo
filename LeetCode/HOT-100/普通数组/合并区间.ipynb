{
 "cells": [
  {
   "cell_type": "markdown",
   "metadata": {},
   "source": [
    "# 合并区间"
   ]
  },
  {
   "cell_type": "code",
   "execution_count": 1,
   "metadata": {
    "vscode": {
     "languageId": "c++"
    }
   },
   "outputs": [],
   "source": [
    "#include <algorithm>\n",
    "#include <iostream>\n",
    "#include <vector>\n",
    "\n",
    "using namespace std;"
   ]
  },
  {
   "cell_type": "code",
   "execution_count": 2,
   "metadata": {
    "vscode": {
     "languageId": "c++"
    }
   },
   "outputs": [],
   "source": [
    "vector<vector<int>> vec{{1,3},{2,6},{8,10}, {15,18}};"
   ]
  },
  {
   "cell_type": "code",
   "execution_count": 3,
   "metadata": {
    "vscode": {
     "languageId": "c++"
    }
   },
   "outputs": [],
   "source": [
    "std::sort(vec.begin(), vec.end(), [](const std::vector<int>& a, const std::vector<int>& b) {\n",
    "        return a[0] < b[0];});"
   ]
  },
  {
   "cell_type": "code",
   "execution_count": 4,
   "metadata": {
    "vscode": {
     "languageId": "c++"
    }
   },
   "outputs": [
    {
     "name": "stdout",
     "output_type": "stream",
     "text": [
      "1 3\n",
      "2 6\n",
      "8 10\n",
      "15 18\n"
     ]
    }
   ],
   "source": [
    "for(auto vals: vec)\n",
    "{\n",
    "    cout << vals[0] << \" \" << vals[1] << endl;\n",
    "}"
   ]
  },
  {
   "cell_type": "code",
   "execution_count": 5,
   "metadata": {
    "vscode": {
     "languageId": "c++"
    }
   },
   "outputs": [],
   "source": [
    "int left = 0, right = 1;\n",
    "vector<vector<int>> res;\n",
    "while(right < vec.size())\n",
    "{\n",
    "    while(vec[left][1] >= vec[right][0]){\n",
    "        vec[left][0] = vec[right++][1];\n",
    "    }\n",
    "    res.push_back(vec[left]);\n",
    "    left = right;\n",
    "    right++;\n",
    "}\n",
    "if(right - left == 1)\n",
    "res.push_back(vec[left]);"
   ]
  },
  {
   "cell_type": "code",
   "execution_count": 6,
   "metadata": {
    "vscode": {
     "languageId": "c++"
    }
   },
   "outputs": [
    {
     "name": "stdout",
     "output_type": "stream",
     "text": [
      "6 3\n",
      "8 10\n",
      "15 18\n"
     ]
    }
   ],
   "source": [
    "for(auto vals: res)\n",
    "{\n",
    "    cout << vals[0] << \" \" << vals[1] << endl;\n",
    "}"
   ]
  },
  {
   "cell_type": "code",
   "execution_count": 7,
   "metadata": {
    "vscode": {
     "languageId": "c++"
    }
   },
   "outputs": [],
   "source": [
    "class Solution {\n",
    "public:\n",
    "    vector<vector<int>> merge(vector<vector<int>>& intervals) {\n",
    "        int left = 0, right = 1;\n",
    "        vector<vector<int>> res;\n",
    "\n",
    "        sort(intervals.begin(), intervals.end(), [](const std::vector<int>& a, const std::vector<int>& b) {return a[0] < b[0];});\n",
    "        \n",
    "        while(right < intervals.size())\n",
    "        {\n",
    "            while(intervals[left][1] >= intervals[right][0]){\n",
    "                intervals[left][1] = intervals[right++][1];\n",
    "            }\n",
    "            res.push_back(intervals[left]);\n",
    "            left = right;\n",
    "            right++;\n",
    "        }\n",
    "        if(right - left == 1)\n",
    "        res.push_back(intervals[left]);\n",
    "\n",
    "        return res;\n",
    "    }\n",
    "};"
   ]
  },
  {
   "cell_type": "code",
   "execution_count": 8,
   "metadata": {
    "vscode": {
     "languageId": "c++"
    }
   },
   "outputs": [
    {
     "name": "stdout",
     "output_type": "stream",
     "text": [
      "1 6\n",
      "8 10\n",
      "15 18\n"
     ]
    }
   ],
   "source": [
    "Solution s;\n",
    "vector<vector<int>> intervals{{1,3},{2,6},{8,10}, {15,18}};\n",
    "vector<vector<int>> res = s.merge(intervals);\n",
    "for(auto vals: res)\n",
    "    cout << vals[0] << \" \" << vals[1] << endl;"
   ]
  }
 ],
 "metadata": {
  "kernelspec": {
   "display_name": "C++11",
   "language": "C++11",
   "name": "xcpp11"
  },
  "language_info": {
   "codemirror_mode": "text/x-c++src",
   "file_extension": ".cpp",
   "mimetype": "text/x-c++src",
   "name": "C++11",
   "version": "11"
  }
 },
 "nbformat": 4,
 "nbformat_minor": 2
}
