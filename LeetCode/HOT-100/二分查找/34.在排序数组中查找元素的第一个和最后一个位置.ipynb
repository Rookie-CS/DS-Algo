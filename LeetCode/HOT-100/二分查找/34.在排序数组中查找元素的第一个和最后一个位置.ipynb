{
 "cells": [
  {
   "cell_type": "markdown",
   "metadata": {
    "vscode": {
     "languageId": "python"
    }
   },
   "source": [
    "# 34. 在排序数组中查找元素的第一个和最后一个位置"
   ]
  },
  {
   "cell_type": "markdown",
   "metadata": {},
   "source": [
    "## 题目"
   ]
  },
  {
   "cell_type": "markdown",
   "metadata": {},
   "source": [
    "<pre />\n",
    "给你一个按照非递减顺序排列的整数数组 nums，和一个目标值 target。请你找出给定目标值在数组中的开始位置和结束位置。\n",
    "如果数组中不存在目标值 target，返回 [-1, -1]。\n",
    "你必须设计并实现时间复杂度为 O(log n) 的算法解决此问题。\n",
    "\n",
    "示例 1：\n",
    "    输入：nums = [5,7,7,8,8,10], target = 8\n",
    "    输出：[3,4]\n",
    "示例 2：\n",
    "    输入：nums = [5,7,7,8,8,10], target = 6\n",
    "    输出：[-1,-1]\n",
    "示例 3：\n",
    "    输入：nums = [], target = 0\n",
    "    输出：[-1,-1]\n",
    " \n",
    "提示：\n",
    "    0 <= nums.length <= 10^5\n",
    "    -10^9 <= nums[i] <= 10^9\n",
    "    nums 是一个非递减数组\n",
    "    -10^9 <= target <= 10^9\n",
    "</pre>"
   ]
  },
  {
   "cell_type": "markdown",
   "metadata": {},
   "source": [
    "## 实现"
   ]
  },
  {
   "cell_type": "code",
   "execution_count": 1,
   "metadata": {
    "vscode": {
     "languageId": "c++"
    }
   },
   "outputs": [],
   "source": [
    "#include <iostream>\n",
    "#include <vector>\n",
    "\n",
    "using namespace std;"
   ]
  },
  {
   "cell_type": "code",
   "execution_count": 2,
   "metadata": {
    "vscode": {
     "languageId": "c++"
    }
   },
   "outputs": [],
   "source": [
    "class Solution {\n",
    "public:\n",
    "    vector<int> searchRange(vector<int>& nums, int target) {\n",
    "        int left, right;\n",
    "        int l = 0, r = nums.size() - 1;\n",
    "        int mid;\n",
    "        while(l <= r)\n",
    "        {\n",
    "            mid = (l + r) / 2;\n",
    "            if(target == nums[mid])\n",
    "            {\n",
    "\n",
    "                cout << \"first mid = \" << mid << endl;\n",
    "                int tmp_right = mid, tmp_left = l;\n",
    "                int tmp_mid;\n",
    "                while(tmp_left < tmp_right)\n",
    "                {\n",
    "                    tmp_mid = (tmp_right + tmp_left) / 2;\n",
    "                    if(target > nums[tmp_mid]) tmp_left = tmp_mid + 1;\n",
    "                    else tmp_right = tmp_mid;\n",
    "                }\n",
    "                left = tmp_left;\n",
    "\n",
    "                cout << \"left = \" << left << endl;\n",
    "                tmp_left = mid, tmp_right = r;\n",
    "                while(tmp_left < tmp_right)\n",
    "                {\n",
    "                    tmp_mid = (tmp_right + tmp_left) / 2;\n",
    "                    cout << \"tmp_mid = \" <<  tmp_mid << endl;;\n",
    "                    if(target < nums[tmp_mid]) tmp_right = tmp_mid - 1;\n",
    "                    else tmp_left = tmp_mid + 1;\n",
    "                }\n",
    "                right = tmp_left - 1;\n",
    "                cout << \"right = \" << right << endl;\n",
    "\n",
    "                return vector<int>{left, right};\n",
    "            }\n",
    "            else if(target > nums[mid]) l = mid + 1;\n",
    "            else r = mid - 1;\n",
    "        }\n",
    "\n",
    "        return vector<int>{-1, -1};\n",
    "    }\n",
    "};"
   ]
  },
  {
   "cell_type": "markdown",
   "metadata": {},
   "source": [
    "## 测试"
   ]
  },
  {
   "cell_type": "code",
   "execution_count": 3,
   "metadata": {
    "vscode": {
     "languageId": "c++"
    }
   },
   "outputs": [],
   "source": [
    "Solution solution;"
   ]
  },
  {
   "cell_type": "code",
   "execution_count": 4,
   "metadata": {
    "vscode": {
     "languageId": "c++"
    }
   },
   "outputs": [],
   "source": [
    "vector<int> nums = {5,7,7,8,8,10};\n",
    "int target = 8;"
   ]
  },
  {
   "cell_type": "code",
   "execution_count": 5,
   "metadata": {
    "vscode": {
     "languageId": "c++"
    }
   },
   "outputs": [
    {
     "name": "stdout",
     "output_type": "stream",
     "text": [
      "first mid = 4\n",
      "left = 3\n",
      "tmp_mid = 4\n",
      "right = 4\n"
     ]
    }
   ],
   "source": [
    "vector<int> ans = solution.searchRange(nums, target);"
   ]
  },
  {
   "cell_type": "code",
   "execution_count": 6,
   "metadata": {
    "vscode": {
     "languageId": "c++"
    }
   },
   "outputs": [
    {
     "name": "stdout",
     "output_type": "stream",
     "text": [
      "3 4\n"
     ]
    }
   ],
   "source": [
    "cout << ans[0] << \" \" << ans[1] << endl;"
   ]
  }
 ],
 "metadata": {
  "kernelspec": {
   "display_name": "C++11",
   "language": "C++11",
   "name": "xcpp11"
  },
  "language_info": {
   "codemirror_mode": "text/x-c++src",
   "file_extension": ".cpp",
   "mimetype": "text/x-c++src",
   "name": "C++11",
   "version": "11"
  }
 },
 "nbformat": 4,
 "nbformat_minor": 2
}
