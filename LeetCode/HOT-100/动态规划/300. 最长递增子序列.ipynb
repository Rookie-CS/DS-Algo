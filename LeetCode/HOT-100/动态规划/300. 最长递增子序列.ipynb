{
 "cells": [
  {
   "cell_type": "markdown",
   "metadata": {},
   "source": [
    "# 单词拆分"
   ]
  },
  {
   "cell_type": "markdown",
   "metadata": {},
   "source": [
    "## 题目"
   ]
  },
  {
   "cell_type": "markdown",
   "metadata": {
    "vscode": {
     "languageId": "c++"
    }
   },
   "source": [
    "<pre />\n",
    "    给你一个整数数组 nums ，找到其中最长严格递增子序列的长度。\n",
    "    子序列 是由数组派生而来的序列，删除（或不删除）数组中的元素而不改变其余元素的顺序。例如，[3,6,2,7] 是数组 [0,3,1,6,2,2,7] 的子序列 \n",
    "\n",
    "示例 1：\n",
    "    输入：nums = [10,9,2,5,3,7,101,18]\n",
    "    输出：4\n",
    "    解释：最长递增子序列是 [2,3,7,101]，因此长度为 4 。\n",
    "示例 2：\n",
    "    输入：nums = [0,1,0,3,2,3]\n",
    "    输出：4\n",
    "示例 3：\n",
    "    输入：nums = [7,7,7,7,7,7,7]\n",
    "    输出：1\n",
    "\n",
    "提示：\n",
    "    1 <= nums.length <= 2500\n",
    "    -104 <= nums[i] <= 104\n",
    " \n",
    "进阶：\n",
    "    你能将算法的时间复杂度降低到 O(n log(n)) 吗?\n",
    "</pre>"
   ]
  },
  {
   "cell_type": "markdown",
   "metadata": {},
   "source": [
    "## 实现"
   ]
  },
  {
   "cell_type": "code",
   "execution_count": 1,
   "metadata": {},
   "outputs": [],
   "source": [
    "#include <algorithm>\n",
    "#include <iostream>\n",
    "#include <vector>\n",
    "#include <stack>\n",
    "\n",
    "using namespace std;"
   ]
  },
  {
   "cell_type": "code",
   "execution_count": 2,
   "metadata": {},
   "outputs": [],
   "source": [
    "class Solution {\n",
    "public:\n",
    "    int lengthOfLIS(vector<int>& nums) {\n",
    "        stack<int> stk;\n",
    "        vector<int> nexts(nums.size(), 0);\n",
    "        for(int i = nums.size() - 1; i >= 0; i--){\n",
    "            while(!stk.empty() && nums[stk.top()] <= nums[i]) stk.pop();\n",
    "            nexts[i] = stk.empty() ? -1: stk.top();\n",
    "            stk.push(i);\n",
    "        }\n",
    "        for(int i = 0; i < nexts.size(); i++){\n",
    "            cout << nexts[i] << \" \";\n",
    "        }\n",
    "        cout << endl;\n",
    "\n",
    "        int all_max = 0;\n",
    "        vector<int> nextmax(nums.size(), 0);\n",
    "        for(int i =  nexts.size() - 1; i >= 0; i--){\n",
    "            int curr_max = 1;\n",
    "            curr_max = nexts[i] != -1 ? 1 +  nextmax[nexts[i]] : 1;\n",
    "            all_max = max(curr_max, all_max);\n",
    "            nextmax[i] = curr_max;\n",
    "        }\n",
    "\n",
    "        return all_max;\n",
    "    }\n",
    "};"
   ]
  },
  {
   "cell_type": "markdown",
   "metadata": {},
   "source": [
    "## 测试"
   ]
  },
  {
   "cell_type": "code",
   "execution_count": 3,
   "metadata": {},
   "outputs": [],
   "source": [
    "void test(vector<int>& nums)\n",
    "{\n",
    "    Solution sol;\n",
    "    cout << sol.lengthOfLIS(nums) << endl;\n",
    "}"
   ]
  },
  {
   "cell_type": "markdown",
   "metadata": {},
   "source": [
    "### case1"
   ]
  },
  {
   "cell_type": "code",
   "execution_count": 4,
   "metadata": {},
   "outputs": [
    {
     "name": "stdout",
     "output_type": "stream",
     "text": [
      "6 6 3 5 5 6 -1 -1 \n",
      "4\n"
     ]
    }
   ],
   "source": [
    "vector<int> nums{10,9,2,5,3,7,101,18};\n",
    "test(nums);"
   ]
  },
  {
   "cell_type": "markdown",
   "metadata": {},
   "source": [
    "### case2"
   ]
  },
  {
   "cell_type": "code",
   "execution_count": 5,
   "metadata": {},
   "outputs": [
    {
     "name": "stdout",
     "output_type": "stream",
     "text": [
      "1 3 3 -1 5 -1 \n",
      "3\n"
     ]
    }
   ],
   "source": [
    "vector<int> nums{0,1,0,3,2,3};\n",
    "test(nums);"
   ]
  },
  {
   "cell_type": "markdown",
   "metadata": {},
   "source": [
    "### case3"
   ]
  },
  {
   "cell_type": "markdown",
   "metadata": {},
   "source": [
    "### case4"
   ]
  },
  {
   "cell_type": "markdown",
   "metadata": {},
   "source": [
    "## 思路 "
   ]
  },
  {
   "cell_type": "markdown",
   "metadata": {},
   "source": [
    "* 动态规划"
   ]
  }
 ],
 "metadata": {
  "kernelspec": {
   "display_name": "C++11",
   "language": "C++11",
   "name": "xcpp11"
  },
  "language_info": {
   "codemirror_mode": "text/x-c++src",
   "file_extension": ".cpp",
   "mimetype": "text/x-c++src",
   "name": "c++",
   "version": "11"
  }
 },
 "nbformat": 4,
 "nbformat_minor": 2
}
