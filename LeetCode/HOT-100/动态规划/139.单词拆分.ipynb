{
 "cells": [
  {
   "cell_type": "markdown",
   "metadata": {},
   "source": [
    "# 单词拆分"
   ]
  },
  {
   "cell_type": "markdown",
   "metadata": {},
   "source": [
    "## 题目"
   ]
  },
  {
   "cell_type": "markdown",
   "metadata": {
    "vscode": {
     "languageId": "c++"
    }
   },
   "source": [
    "<pre />\n",
    "    给你一个字符串 s 和一个字符串列表 wordDict 作为字典。如果可以利用字典中出现的一个或多个单词拼接出 s 则返回 true。\n",
    "    注意：不要求字典中出现的单词全部都使用，并且字典中的单词可以重复使用。\n",
    "\n",
    "示例 1：\n",
    "    输入: s = \"leetcode\", wordDict = [\"leet\", \"code\"]\n",
    "    输出: true\n",
    "    解释: 返回 true 因为 \"leetcode\" 可以由 \"leet\" 和 \"code\" 拼接成。\n",
    "\n",
    "示例 2：\n",
    "    输入: s = \"applepenapple\", wordDict = [\"apple\", \"pen\"]\n",
    "    输出: true\n",
    "    解释: 返回 true 因为 \"applepenapple\" 可以由 \"apple\" \"pen\" \"apple\" 拼接成。\n",
    "        注意，你可以重复使用字典中的单词。\n",
    "\n",
    "示例 3：\n",
    "    输入: s = \"catsandog\", wordDict = [\"cats\", \"dog\", \"sand\", \"and\", \"cat\"]\n",
    "    输出: false\n",
    "\n",
    "提示：\n",
    "    1 <= s.length <= 300\n",
    "    1 <= wordDict.length <= 1000\n",
    "    1 <= wordDict[i].length <= 20\n",
    "    s 和 wordDict[i] 仅由小写英文字母组成\n",
    "</pre>"
   ]
  },
  {
   "cell_type": "markdown",
   "metadata": {},
   "source": [
    "## 实现"
   ]
  },
  {
   "cell_type": "code",
   "execution_count": 1,
   "metadata": {},
   "outputs": [],
   "source": [
    "#include <algorithm>\n",
    "#include <iostream>\n",
    "#include <vector>\n",
    "#include <string>\n",
    "#include <unordered_set>\n",
    "\n",
    "using namespace std;"
   ]
  },
  {
   "cell_type": "code",
   "execution_count": 2,
   "metadata": {},
   "outputs": [],
   "source": [
    "class Solution {\n",
    "public:\n",
    "    unordered_set<string> word_set;\n",
    "    vector<int> hist;\n",
    "\n",
    "    bool wordBreak(string& s, int start, int word_maxlen){\n",
    "        if(start == s.length()) return true;\n",
    "        if(hist[start] != -1) return hist[start];\n",
    "\n",
    "        bool ret = false;\n",
    "        for(int i = min(word_maxlen, (int)(s.length() - start)); i > 0; i--){\n",
    "            if(word_set.find(s.substr(start, i)) != word_set.end() && wordBreak(s, start + i, word_maxlen)){\n",
    "                ret = true;\n",
    "                break;\n",
    "            }\n",
    "        }\n",
    "        hist[start] = ret;\n",
    "\n",
    "        return ret;\n",
    "    }\n",
    "    \n",
    "    bool wordBreak(string s, vector<string>& wordDict) {\n",
    "        int start = 0, end = 0;\n",
    "        int word_maxlen = 0;\n",
    "        hist.resize(s.length(), -1);\n",
    "\n",
    "        for(string& word: wordDict){\n",
    "            word_set.insert(word);\n",
    "            word_maxlen = word.length() > word_maxlen ? word.length() : word_maxlen;\n",
    "        }\n",
    "\n",
    "        return wordBreak(s, 0, word_maxlen);\n",
    "    }\n",
    "};"
   ]
  },
  {
   "cell_type": "markdown",
   "metadata": {},
   "source": [
    "## 测试"
   ]
  },
  {
   "cell_type": "code",
   "execution_count": 3,
   "metadata": {},
   "outputs": [],
   "source": [
    "void test(string& s, vector<string>& wordDict)\n",
    "{\n",
    "    Solution sol;\n",
    "    cout << sol.wordBreak(s, wordDict) << endl;\n",
    "}"
   ]
  },
  {
   "cell_type": "markdown",
   "metadata": {},
   "source": [
    "### case1"
   ]
  },
  {
   "cell_type": "code",
   "execution_count": 4,
   "metadata": {},
   "outputs": [
    {
     "name": "stdout",
     "output_type": "stream",
     "text": [
      "1\n"
     ]
    }
   ],
   "source": [
    "string s(\"leetcode\");\n",
    "vector<string> wordDict{\"leet\",\"code\"};\n",
    "test(s, wordDict);"
   ]
  },
  {
   "cell_type": "markdown",
   "metadata": {},
   "source": [
    "### case2"
   ]
  },
  {
   "cell_type": "code",
   "execution_count": 5,
   "metadata": {},
   "outputs": [
    {
     "name": "stdout",
     "output_type": "stream",
     "text": [
      "1\n"
     ]
    }
   ],
   "source": [
    "string s(\"applepenapple\");\n",
    "vector<string> wordDict{\"apple\",\"pen\"};\n",
    "test(s, wordDict);"
   ]
  },
  {
   "cell_type": "markdown",
   "metadata": {},
   "source": [
    "### case3"
   ]
  },
  {
   "cell_type": "code",
   "execution_count": 6,
   "metadata": {},
   "outputs": [
    {
     "name": "stdout",
     "output_type": "stream",
     "text": [
      "0\n"
     ]
    }
   ],
   "source": [
    "string s(\"catsandog\");\n",
    "vector<string> wordDict{\"cats\",\"dog\",\"sand\",\"and\",\"cat\"};\n",
    "test(s, wordDict);"
   ]
  },
  {
   "cell_type": "markdown",
   "metadata": {},
   "source": [
    "### case4"
   ]
  },
  {
   "cell_type": "code",
   "execution_count": 7,
   "metadata": {},
   "outputs": [
    {
     "name": "stdout",
     "output_type": "stream",
     "text": [
      "1\n"
     ]
    }
   ],
   "source": [
    "string s(\"bb\");\n",
    "vector<string> wordDict{\"a\",\"b\",\"bbb\",\"bbbb\"};\n",
    "test(s, wordDict);"
   ]
  },
  {
   "cell_type": "markdown",
   "metadata": {},
   "source": [
    "## 思路 "
   ]
  },
  {
   "cell_type": "markdown",
   "metadata": {},
   "source": [
    "* 动态规划"
   ]
  }
 ],
 "metadata": {
  "kernelspec": {
   "display_name": "C++11",
   "language": "C++11",
   "name": "xcpp11"
  },
  "language_info": {
   "codemirror_mode": "text/x-c++src",
   "file_extension": ".cpp",
   "mimetype": "text/x-c++src",
   "name": "c++",
   "version": "11"
  }
 },
 "nbformat": 4,
 "nbformat_minor": 2
}
