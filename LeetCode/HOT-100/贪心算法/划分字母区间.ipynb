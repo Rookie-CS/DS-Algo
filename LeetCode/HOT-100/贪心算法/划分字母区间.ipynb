{
 "cells": [
  {
   "cell_type": "markdown",
   "metadata": {},
   "source": [
    "# 划分字母区间 "
   ]
  },
  {
   "cell_type": "markdown",
   "metadata": {},
   "source": [
    "## 题目"
   ]
  },
  {
   "cell_type": "markdown",
   "metadata": {},
   "source": [
    "<pre />\n",
    "    给你一个字符串 s 。我们要把这个字符串划分为尽可能多的片段，同一字母最多出现在一个片段中。\n",
    "    注意，划分结果需要满足：将所有划分结果按顺序连接，得到的字符串仍然是 s 。\n",
    "    返回一个表示每个字符串片段的长度的列表。\n",
    "示例 1：\n",
    "    输入：s = \"ababcbacadefegdehijhklij\"\n",
    "    输出：[9,7,8]\n",
    "    解释：\n",
    "    划分结果为 \"ababcbaca\"、\"defegde\"、\"hijhklij\" 。\n",
    "    每个字母最多出现在一个片段中。\n",
    "    像 \"ababcbacadefegde\", \"hijhklij\" 这样的划分是错误的，因为划分的片段数较少。 \n",
    "示例 2：\n",
    "    输入：s = \"eccbbbbdec\"\n",
    "    输出：[10]\n",
    "提示：\n",
    "    1 <= s.length <= 500\n",
    "    s 仅由小写英文字母组成\n",
    "\n",
    "</pre>"
   ]
  },
  {
   "cell_type": "markdown",
   "metadata": {},
   "source": [
    "## 实现"
   ]
  },
  {
   "cell_type": "code",
   "execution_count": 1,
   "metadata": {},
   "outputs": [],
   "source": [
    "#include <algorithm>\n",
    "#include <iostream>\n",
    "#include <vector>\n",
    "#include <string>\n",
    "\n",
    "using namespace std;"
   ]
  },
  {
   "cell_type": "markdown",
   "metadata": {},
   "source": [
    "### 方法一"
   ]
  },
  {
   "cell_type": "code",
   "execution_count": 2,
   "metadata": {},
   "outputs": [],
   "source": [
    "class Solution1 {\n",
    "public:\n",
    "    vector<vector<int>> mergeIntervals(vector<vector<int>> interval)\n",
    "    {\n",
    "        vector<vector<int>> merge;\n",
    "        merge.push_back(interval[0]);\n",
    "        for(int i = 1; i < interval.size(); i++){\n",
    "            if(merge[merge.size()-1][1] > interval[i][0]){\n",
    "                merge[merge.size()-1][1] = max(interval[i][1], merge[merge.size()-1][1]);\n",
    "            }\n",
    "            else{\n",
    "                merge.push_back(interval[i]);\n",
    "            }\n",
    "        }\n",
    "\n",
    "        return merge;\n",
    "    }\n",
    "\n",
    "    vector<int> partitionLabels(string s) {\n",
    "        vector<int> firstchars(26, -1), lastchars(26, -1);\n",
    "        for(int i = 0; i < s.length(); i++) lastchars[s[i] - 'a'] = i;\n",
    "        for(int i = s.length() - 1; i >= 0; i--) firstchars[s[i] - 'a'] = i;\n",
    "        vector<vector<int>> interval;\n",
    "        for(int i = 0; i < firstchars.size(); i++){\n",
    "            if(firstchars[i]  != -1){\n",
    "                interval.push_back(vector<int>{firstchars[i], lastchars[i]});\n",
    "            }\n",
    "        }\n",
    "        sort(interval.begin(), interval.end(), [](const vector<int>& a, const vector<int>&b){return a[0] < b[0];});\n",
    "\n",
    "        vector<vector<int>> merge = mergeIntervals(interval);\n",
    "\n",
    "        vector<int> ret(merge.size(), 0);\n",
    "\n",
    "        for(int i = 0; i < merge.size(); i++){\n",
    "            ret[i] = merge[i][1] - merge[i][0] + 1;\n",
    "        }\n",
    "\n",
    "        return ret;\n",
    "\n",
    "    }\n",
    "};"
   ]
  },
  {
   "cell_type": "markdown",
   "metadata": {},
   "source": [
    "### 方法二"
   ]
  },
  {
   "cell_type": "code",
   "execution_count": 3,
   "metadata": {},
   "outputs": [],
   "source": [
    "class Solution2 {\n",
    "public:\n",
    "    \n",
    "\n",
    "    vector<int> partitionLabels(string s) {\n",
    "        const int n = 26;\n",
    "        int last[n];\n",
    "        for(int i = 0; i < n; i++)last[i] = -1;\n",
    "        for(int i = 0; i < s.length(); i++)last[s[i]-'a'] = i;\n",
    "\n",
    "        int start = 0, end = 0;\n",
    "        vector<int> ret;\n",
    "\n",
    "        while(end < s.length()){\n",
    "            for(int i = start; i <= end; i++){\n",
    "                end = max(last[s[i]-'a'],  end);\n",
    "            }\n",
    "            ret.push_back(end - start + 1);\n",
    "            start = end = end + 1;\n",
    "        }\n",
    "\n",
    "        return ret;\n",
    "    }\n",
    "};"
   ]
  },
  {
   "cell_type": "markdown",
   "metadata": {},
   "source": [
    "## 测试"
   ]
  },
  {
   "cell_type": "code",
   "execution_count": 4,
   "metadata": {},
   "outputs": [],
   "source": [
    "void test1(string& s)\n",
    "{\n",
    "    Solution1 sol;\n",
    "    vector<int> ret = sol.partitionLabels(s);\n",
    "    for( int i = 0; i < ret.size(); i++)\n",
    "    {\n",
    "        cout << ret[i] << \", \";\n",
    "    }\n",
    "    cout <<  \"\\b\\b\"  << endl;\n",
    "}"
   ]
  },
  {
   "cell_type": "code",
   "execution_count": 5,
   "metadata": {},
   "outputs": [],
   "source": [
    "void test2(string& s)\n",
    "{\n",
    "    Solution2 sol;\n",
    "    vector<int> ret = sol.partitionLabels(s);\n",
    "    for( int i = 0; i < ret.size(); i++)\n",
    "    {\n",
    "        cout << ret[i] << \", \";\n",
    "    }\n",
    "    cout <<  \"\\b\\b\"  << endl;\n",
    "}"
   ]
  },
  {
   "cell_type": "markdown",
   "metadata": {},
   "source": [
    "### case1"
   ]
  },
  {
   "cell_type": "code",
   "execution_count": 6,
   "metadata": {},
   "outputs": [
    {
     "name": "stdout",
     "output_type": "stream",
     "text": [
      "9, 7, 8\n",
      "9, 7, 8\n"
     ]
    }
   ],
   "source": [
    "string s1 = \"ababcbacadefegdehijhklij\";\n",
    "test1(s1);\n",
    "test2(s1);"
   ]
  },
  {
   "cell_type": "markdown",
   "metadata": {},
   "source": [
    "### case2"
   ]
  },
  {
   "cell_type": "code",
   "execution_count": 7,
   "metadata": {},
   "outputs": [
    {
     "name": "stdout",
     "output_type": "stream",
     "text": [
      "10\n",
      "10\n"
     ]
    }
   ],
   "source": [
    "string s2 = \"eccbbbbdec\";\n",
    "test1(s2);\n",
    "test2(s2);"
   ]
  },
  {
   "cell_type": "markdown",
   "metadata": {},
   "source": [
    "## 思路"
   ]
  },
  {
   "cell_type": "markdown",
   "metadata": {},
   "source": [
    "* 方法一\n",
    "    * 遍历搜索每个字母首次出现和最后一次出现的位置\n",
    "    * 出现的位置之间构成一组区间， 问题转化为合并区间\n",
    "* 方法二\n",
    "    * 从左到右遍历字符串，遍历的同时维护当前片段的开始下标 start 和结束下标 end，初始时 start=end=0。\n",
    "\n",
    "    * 对于每个访问到的字母 c，得到当前字母的最后一次出现的下标位置 end\n",
    "    * 则当前片段的结束下标一定不会小于 end，因此令 end=max(end,end)。\n",
    "\n",
    "    * 当访问到下标 end 时，当前片段访问结束，当前片段的下标范围是 [start,end]，长度为 end−start+1，将当前片段的长度添加到返回值，然后令 start=end+1，继续寻找下一个片段。"
   ]
  }
 ],
 "metadata": {
  "kernelspec": {
   "display_name": "C++11",
   "language": "C++11",
   "name": "xcpp11"
  },
  "language_info": {
   "codemirror_mode": "text/x-c++src",
   "file_extension": ".cpp",
   "mimetype": "text/x-c++src",
   "name": "c++",
   "version": "11"
  }
 },
 "nbformat": 4,
 "nbformat_minor": 2
}
