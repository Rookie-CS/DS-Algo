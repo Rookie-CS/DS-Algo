{
 "cells": [
  {
   "cell_type": "markdown",
   "metadata": {},
   "source": [
    "# 数组中的第K个最大元素"
   ]
  },
  {
   "cell_type": "markdown",
   "metadata": {},
   "source": [
    "## 题目"
   ]
  },
  {
   "cell_type": "markdown",
   "metadata": {},
   "source": [
    "<pre/>\n",
    "给定整数数组 nums 和整数 k，请返回数组中第 k 个最大的元素。\n",
    "请注意，你需要找的是数组排序后的第 k 个最大的元素，而不是第 k 个不同的元素。\n",
    "你必须设计并实现时间复杂度为 O(n) 的算法解决此问题。\n",
    "\n",
    "\n",
    "示例 1:\n",
    "输入: [3,2,1,5,6,4], k = 2\n",
    "输出: 5\n",
    "\n",
    "示例 2:\n",
    "输入: [3,2,3,1,2,4,5,5,6], k = 4\n",
    "输出: 4\n",
    " \n",
    "提示：\n",
    "1 <= k <= nums.length <= 105\n",
    "-104 <= nums[i] <= 104\n",
    "</pre>"
   ]
  },
  {
   "cell_type": "markdown",
   "metadata": {},
   "source": [
    "## 算法"
   ]
  },
  {
   "cell_type": "code",
   "execution_count": 1,
   "metadata": {
    "vscode": {
     "languageId": "c++"
    }
   },
   "outputs": [],
   "source": [
    "#include <iostream>\n",
    "#include <climits>\n",
    "#include <vector>\n",
    "\n",
    "using namespace std;"
   ]
  },
  {
   "cell_type": "code",
   "execution_count": 2,
   "metadata": {
    "vscode": {
     "languageId": "c++"
    }
   },
   "outputs": [],
   "source": [
    "class Solution {\n",
    "public:\n",
    "    int findKthLargest(vector<int>& nums, int k) {\n",
    "        vector<int> maxheap(nums.size() + 1, 0);\n",
    "        int maxheap_size = 0;\n",
    "        maxheap[0] = INT_MAX;\n",
    "        /*创建最大堆*/\n",
    "        for(int num: nums)\n",
    "        {\n",
    "            int i = ++maxheap_size;\n",
    "            while(maxheap[i/2] <= num){\n",
    "                maxheap[i] = maxheap[i/2];\n",
    "                i /= 2;\n",
    "            }\n",
    "            maxheap[i] = num;\n",
    "        }\n",
    "        \n",
    "        for( int _ = 0; _ < k - 1; _++)\n",
    "        {\n",
    "            int i = 1;\n",
    "            int target = maxheap[maxheap_size];\n",
    "            while(true)\n",
    "            {\n",
    "                if(i*2+1 >= maxheap_size)\n",
    "                {\n",
    "                    if(i*2 < maxheap_size && target < maxheap[i*2])\n",
    "                    {\n",
    "                        maxheap[i] = maxheap[i*2];\n",
    "                        maxheap[i*2] = target;\n",
    "                    }\n",
    "                    else\n",
    "                    {\n",
    "                        maxheap[i] = target;\n",
    "                    }\n",
    "                    break;\n",
    "                }\n",
    "                else if(target >= maxheap[i*2] && target >= maxheap[i*2+1])\n",
    "                {\n",
    "                    maxheap[i] = target;\n",
    "                    break;\n",
    "                }\n",
    "                else\n",
    "                {\n",
    "                    if(maxheap[i*2] > maxheap[i*2+1])\n",
    "                    {\n",
    "                        maxheap[i] = maxheap[i*2];\n",
    "                        i = i*2;\n",
    "                    }\n",
    "                    else\n",
    "                    {\n",
    "                        maxheap[i] = maxheap[i*2+1];\n",
    "                        i = i*2+1;\n",
    "                    }\n",
    "                }\n",
    "            }\n",
    "            maxheap_size--;\n",
    "        }\n",
    "        return maxheap[1];\n",
    "\n",
    "    }\n",
    "};"
   ]
  },
  {
   "cell_type": "markdown",
   "metadata": {},
   "source": [
    "## 测试"
   ]
  },
  {
   "cell_type": "code",
   "execution_count": 3,
   "metadata": {
    "vscode": {
     "languageId": "c++"
    }
   },
   "outputs": [],
   "source": [
    "void test(vector<int>& nums, int k)\n",
    "{\n",
    "    Solution s;\n",
    "    int res = s.findKthLargest(nums, k);\n",
    "    cout << \"第K个最大元素: \" << res << endl;\n",
    "}"
   ]
  },
  {
   "cell_type": "markdown",
   "metadata": {},
   "source": [
    "### case 1"
   ]
  },
  {
   "cell_type": "code",
   "execution_count": 4,
   "metadata": {
    "vscode": {
     "languageId": "c++"
    }
   },
   "outputs": [
    {
     "name": "stdout",
     "output_type": "stream",
     "text": [
      "\n",
      "第K个最大元素: 5\n"
     ]
    }
   ],
   "source": [
    "vector<int> nums1{3,2,1,5,6,4};\n",
    "int k1 = 2;\n",
    "test(nums1, k1)"
   ]
  },
  {
   "cell_type": "markdown",
   "metadata": {},
   "source": [
    "### case 2"
   ]
  },
  {
   "cell_type": "code",
   "execution_count": 5,
   "metadata": {
    "vscode": {
     "languageId": "c++"
    }
   },
   "outputs": [
    {
     "name": "stdout",
     "output_type": "stream",
     "text": [
      "\n",
      "第K个最大元素: 4\n"
     ]
    }
   ],
   "source": [
    "vector<int> nums2{3,2,3,1,2,4, 5, 5, 6};\n",
    "int k2 = 4;\n",
    "test(nums2, k2)"
   ]
  }
 ],
 "metadata": {
  "kernelspec": {
   "display_name": "C++11",
   "language": "C++11",
   "name": "xcpp11"
  },
  "language_info": {
   "codemirror_mode": "text/x-c++src",
   "file_extension": ".cpp",
   "mimetype": "text/x-c++src",
   "name": "C++11",
   "version": "11"
  }
 },
 "nbformat": 4,
 "nbformat_minor": 2
}
