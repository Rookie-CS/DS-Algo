{
 "cells": [
  {
   "cell_type": "markdown",
   "metadata": {},
   "source": [
    "# 字母异位词分组"
   ]
  },
  {
   "cell_type": "markdown",
   "metadata": {},
   "source": [
    "<iframe src=\"https://leetcode.cn/problems/group-anagrams/description/?envType=study-plan-v2&envId=top-interview-150\" width=\"1200\" height=\"800\"><iframe>"
   ]
  },
  {
   "cell_type": "markdown",
   "metadata": {},
   "source": [
    "## 题目"
   ]
  },
  {
   "cell_type": "markdown",
   "metadata": {},
   "source": [
    "编写一个算法来判断一个数 `n` 是否为快乐数。\n",
    "\n",
    "### 快乐数定义：\n",
    "\n",
    "- 对于一个正整数，每一次将该数替换为它每个位置上的数字的平方和。\n",
    "- 然后重复这个过程直到这个数变为 1，也可能是无限循环但始终变不到 1。\n",
    "- 如果这个过程结果为 1，那么这个数就是快乐数。\n",
    "- 如果 `n` 是快乐数就返回 `true`；否则返回 `false`。\n",
    "\n",
    "### 示例\n",
    "\n",
    "#### 示例 1：\n",
    "\n",
    "- 输入：`n = 19`\n",
    "- 输出：`true`\n",
    "- 解释：\n",
    "  - \\($1^2 + 9^2 = 82$\\)\n",
    "  - \\($8^2 + 2^2 = 68$\\)\n",
    "  - \\($6^2 + 8^2 = 100$\\)\n",
    "  - \\($1^2 + 0^2 + 0^2 = 1$\\)\n",
    "\n",
    "#### 示例 2：\n",
    "\n",
    "- 输入：`n = 2`\n",
    "- 输出：`false`\n",
    "\n",
    "### 提示：\n",
    "\n",
    "- \\($1 <= n <= 2^{31} - 1$\\)"
   ]
  },
  {
   "cell_type": "markdown",
   "metadata": {},
   "source": [
    "## Python版"
   ]
  },
  {
   "cell_type": "markdown",
   "metadata": {},
   "source": [
    "### 实现"
   ]
  },
  {
   "cell_type": "code",
   "execution_count": 1,
   "metadata": {},
   "outputs": [],
   "source": [
    "import collections\n",
    "from typing import List"
   ]
  },
  {
   "cell_type": "code",
   "execution_count": 2,
   "metadata": {},
   "outputs": [],
   "source": [
    "class Solution:\n",
    "    def isHappy(self, n: int) -> bool:\n",
    "        hash = set()\n",
    "        while n not in hash and n != 1:\n",
    "            hash.add(n)\n",
    "            n = sum([int(x)**2 for x in str(n)])\n",
    "            print(n, end=' ')\n",
    "\n",
    "        return n == 1"
   ]
  },
  {
   "cell_type": "markdown",
   "metadata": {},
   "source": [
    "### 测试"
   ]
  },
  {
   "cell_type": "code",
   "execution_count": 3,
   "metadata": {},
   "outputs": [
    {
     "name": "stdout",
     "output_type": "stream",
     "text": [
      "82 68 100 1 "
     ]
    },
    {
     "data": {
      "text/plain": [
       "True"
      ]
     },
     "execution_count": 3,
     "metadata": {},
     "output_type": "execute_result"
    }
   ],
   "source": [
    "s = Solution()\n",
    "s.isHappy(19)"
   ]
  },
  {
   "cell_type": "code",
   "execution_count": 4,
   "metadata": {},
   "outputs": [
    {
     "name": "stdout",
     "output_type": "stream",
     "text": [
      "4 16 37 58 89 145 42 20 4 "
     ]
    },
    {
     "data": {
      "text/plain": [
       "False"
      ]
     },
     "execution_count": 4,
     "metadata": {},
     "output_type": "execute_result"
    }
   ],
   "source": [
    "s.isHappy(2)"
   ]
  },
  {
   "cell_type": "code",
   "execution_count": 5,
   "metadata": {},
   "outputs": [
    {
     "data": {
      "text/plain": [
       "8"
      ]
     },
     "execution_count": 5,
     "metadata": {},
     "output_type": "execute_result"
    }
   ],
   "source": [
    "from typing import List\n",
    "class Solution:\n",
    "    def maxProfit(self, prices: List[int]) -> int:\n",
    "        return sum(\n",
    "            [\n",
    "                prices[i + 1] - prices[i]\n",
    "                for i in range(len(prices) - 1)\n",
    "                if prices[i] < prices[i + 1]\n",
    "            ]\n",
    "        )\n",
    "Solution().maxProfit([7,6,4,3,1, 9])"
   ]
  }
 ],
 "metadata": {
  "kernelspec": {
   "display_name": "ai",
   "language": "python",
   "name": "python3"
  },
  "language_info": {
   "codemirror_mode": {
    "name": "ipython",
    "version": 3
   },
   "file_extension": ".py",
   "mimetype": "text/x-python",
   "name": "python",
   "nbconvert_exporter": "python",
   "pygments_lexer": "ipython3",
   "version": "3.11.9"
  }
 },
 "nbformat": 4,
 "nbformat_minor": 2
}
