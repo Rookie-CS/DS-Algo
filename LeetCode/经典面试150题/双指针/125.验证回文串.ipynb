{
 "cells": [
  {
   "cell_type": "markdown",
   "metadata": {},
   "source": [
    "# 125.验证回文串"
   ]
  },
  {
   "cell_type": "markdown",
   "metadata": {},
   "source": [
    "## 题目"
   ]
  },
  {
   "cell_type": "markdown",
   "metadata": {},
   "source": [
    "<pre />\n",
    "如果在将所有大写字符转换为小写字符、并移除所有非字母数字字符之后，短语正着读和反着读都一样。则可以认为该短语是一个 回文串 。\n",
    "字母和数字都属于字母数字字符。\n",
    "给你一个字符串 s，如果它是 回文串 ，返回 true ；否则，返回 false 。\n",
    "\n",
    "示例 1：\n",
    "    输入: s = \"A man, a plan, a canal: Panama\"\n",
    "    输出：true\n",
    "    解释：\"amanaplanacanalpanama\" 是回文串。\n",
    "示例 2：\n",
    "    输入：s = \"race a car\"\n",
    "    输出：false\n",
    "    解释：\"raceacar\" 不是回文串。\n",
    "示例 3：\n",
    "    输入：s = \" \"\n",
    "    输出：true\n",
    "    解释：在移除非字母数字字符之后，s 是一个空字符串 \"\" 。\n",
    "    由于空字符串正着反着读都一样，所以是回文串。\n",
    "提示：\n",
    "    1 <= s.length <= 2 * 10^5\n",
    "    s 仅由可打印的 ASCII 字符组成\n",
    "\n",
    "</pre>"
   ]
  },
  {
   "cell_type": "markdown",
   "metadata": {},
   "source": [
    "## Python 版"
   ]
  },
  {
   "cell_type": "markdown",
   "metadata": {},
   "source": [
    "### 实现"
   ]
  },
  {
   "cell_type": "code",
   "execution_count": 7,
   "metadata": {},
   "outputs": [],
   "source": [
    "class Solution:\n",
    "    def isPalindrome(self, s: str) -> bool:\n",
    "        s = \"\".join([c for c in s.lower() if c >= 'a' and c <= 'z'])\n",
    "        last = len(s) - 1\n",
    "        for i in range(int(len(s)/2)):\n",
    "            if s[i] != s[last - i]:\n",
    "                return False\n",
    "        return True"
   ]
  },
  {
   "cell_type": "markdown",
   "metadata": {},
   "source": [
    "### 测试"
   ]
  },
  {
   "cell_type": "code",
   "execution_count": 8,
   "metadata": {},
   "outputs": [
    {
     "data": {
      "text/plain": [
       "True"
      ]
     },
     "execution_count": 8,
     "metadata": {},
     "output_type": "execute_result"
    }
   ],
   "source": [
    "Solution().isPalindrome(\"A man, a plan, a canal: Panama\")"
   ]
  },
  {
   "cell_type": "code",
   "execution_count": 11,
   "metadata": {},
   "outputs": [
    {
     "data": {
      "text/plain": [
       "True"
      ]
     },
     "execution_count": 11,
     "metadata": {},
     "output_type": "execute_result"
    }
   ],
   "source": [
    "Solution().isPalindrome(\"0P\")"
   ]
  },
  {
   "cell_type": "code",
   "execution_count": null,
   "metadata": {},
   "outputs": [],
   "source": []
  }
 ],
 "metadata": {
  "kernelspec": {
   "display_name": "ai",
   "language": "python",
   "name": "python3"
  },
  "language_info": {
   "codemirror_mode": {
    "name": "ipython",
    "version": 3
   },
   "file_extension": ".py",
   "mimetype": "text/x-python",
   "name": "python",
   "nbconvert_exporter": "python",
   "pygments_lexer": "ipython3",
   "version": "undefined.undefined.undefined"
  }
 },
 "nbformat": 4,
 "nbformat_minor": 2
}
